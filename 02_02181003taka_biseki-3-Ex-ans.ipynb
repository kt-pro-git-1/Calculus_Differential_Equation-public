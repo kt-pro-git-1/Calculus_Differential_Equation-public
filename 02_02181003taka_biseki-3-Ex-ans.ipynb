{
 "cells": [
  {
   "cell_type": "markdown",
   "metadata": {},
   "source": [
    "# 微積分の計算について  No.３　　　問題と解答"
   ]
  },
  {
   "cell_type": "markdown",
   "metadata": {},
   "source": [
    "#### 学籍番号[＿＿＿＿＿＿＿＿＿]クラス[＿＿＿＿＿]　クラス番号[＿＿＿＿＿] 名前[＿＿＿＿＿＿＿＿＿＿＿＿＿＿＿]"
   ]
  },
  {
   "cell_type": "code",
   "execution_count": 100,
   "metadata": {},
   "outputs": [],
   "source": [
    "from sympy import *\n",
    "x, n , y, a = symbols('x n y a')\n",
    "init_printing()"
   ]
  },
  {
   "cell_type": "code",
   "execution_count": 79,
   "metadata": {},
   "outputs": [
    {
     "name": "stdout",
     "output_type": "stream",
     "text": [
      "No.11\n"
     ]
    },
    {
     "data": {
      "image/png": "[encoded data removed]",
      "text/latex": [
       "$$\\frac{d}{d x} \\sin{\\left (\\log{\\left (x^{2} + 1 \\right )} \\right )}$$"
      ],
      "text/plain": [
       "d ⎛   ⎛   ⎛ 2    ⎞⎞⎞\n",
       "──⎝sin⎝log⎝x  + 1⎠⎠⎠\n",
       "dx                  "
      ]
     },
     "execution_count": 79,
     "metadata": {},
     "output_type": "execute_result"
    }
   ],
   "source": [
    "expr = sin(log(x**2+1))\n",
    "deriv = Derivative(expr,x,1)\n",
    "print( 'No.11')\n",
    "deriv"
   ]
  },
  {
   "cell_type": "code",
   "execution_count": 80,
   "metadata": {},
   "outputs": [
    {
     "data": {
      "image/png": "[encoded data removed]",
      "text/latex": [
       "$$\\frac{2 x}{x^{2} + 1} \\cos{\\left (\\log{\\left (x^{2} + 1 \\right )} \\right )}$$"
      ],
      "text/plain": [
       "       ⎛   ⎛ 2    ⎞⎞\n",
       "2⋅x⋅cos⎝log⎝x  + 1⎠⎠\n",
       "────────────────────\n",
       "        2           \n",
       "       x  + 1       "
      ]
     },
     "execution_count": 80,
     "metadata": {},
     "output_type": "execute_result"
    }
   ],
   "source": [
    "deriv.doit()"
   ]
  },
  {
   "cell_type": "code",
   "execution_count": 81,
   "metadata": {},
   "outputs": [
    {
     "name": "stdout",
     "output_type": "stream",
     "text": [
      "No.12\n"
     ]
    },
    {
     "data": {
      "image/png": "[encoded data removed]",
      "text/latex": [
       "$$\\frac{d}{d x} \\frac{1}{\\sin{\\left (\\sqrt{x} \\right )}}$$"
      ],
      "text/plain": [
       "d ⎛   1   ⎞\n",
       "──⎜───────⎟\n",
       "dx⎝sin(√x)⎠"
      ]
     },
     "execution_count": 81,
     "metadata": {},
     "output_type": "execute_result"
    }
   ],
   "source": [
    "expr = 1/sin(sqrt(x))\n",
    "deriv = Derivative(expr,x,1)\n",
    "print( 'No.12')\n",
    "deriv"
   ]
  },
  {
   "cell_type": "code",
   "execution_count": 82,
   "metadata": {},
   "outputs": [
    {
     "data": {
      "image/png": "[encoded data removed]",
      "text/latex": [
       "$$- \\frac{\\cos{\\left (\\sqrt{x} \\right )}}{2 \\sqrt{x} \\sin^{2}{\\left (\\sqrt{x} \\right )}}$$"
      ],
      "text/plain": [
       "  -cos(√x)   \n",
       "─────────────\n",
       "        2    \n",
       "2⋅√x⋅sin (√x)"
      ]
     },
     "execution_count": 82,
     "metadata": {},
     "output_type": "execute_result"
    }
   ],
   "source": [
    "deriv.doit()"
   ]
  },
  {
   "cell_type": "code",
   "execution_count": 83,
   "metadata": {},
   "outputs": [
    {
     "name": "stdout",
     "output_type": "stream",
     "text": [
      "No.13\n"
     ]
    },
    {
     "data": {
      "image/png": "[encoded data removed]",
      "text/latex": [
       "$$\\frac{d}{d x} \\sqrt{\\frac{x^{2} - 1}{x^{2} + 1}}$$"
      ],
      "text/plain": [
       "  ⎛      ________⎞\n",
       "  ⎜     ╱  2     ⎟\n",
       "d ⎜    ╱  x  - 1 ⎟\n",
       "──⎜   ╱   ────── ⎟\n",
       "dx⎜  ╱     2     ⎟\n",
       "  ⎝╲╱     x  + 1 ⎠"
      ]
     },
     "execution_count": 83,
     "metadata": {},
     "output_type": "execute_result"
    }
   ],
   "source": [
    "expr = sqrt((x**2-1)/(x**2+1))\n",
    "deriv = Derivative(expr,x,1)\n",
    "print( 'No.13')\n",
    "deriv"
   ]
  },
  {
   "cell_type": "code",
   "execution_count": 84,
   "metadata": {},
   "outputs": [
    {
     "data": {
      "image/png": "[encoded data removed]",
      "text/latex": [
       "$$\\frac{2 x}{x^{4} - 1} \\sqrt{\\frac{x^{2} - 1}{x^{2} + 1}}$$"
      ],
      "text/plain": [
       "          ________\n",
       "         ╱  2     \n",
       "        ╱  x  - 1 \n",
       "2⋅x⋅   ╱   ────── \n",
       "      ╱     2     \n",
       "    ╲╱     x  + 1 \n",
       "──────────────────\n",
       "       4          \n",
       "      x  - 1      "
      ]
     },
     "execution_count": 84,
     "metadata": {},
     "output_type": "execute_result"
    }
   ],
   "source": [
    "simplify(deriv.doit())"
   ]
  },
  {
   "cell_type": "code",
   "execution_count": 85,
   "metadata": {},
   "outputs": [
    {
     "name": "stdout",
     "output_type": "stream",
     "text": [
      "No.14\n"
     ]
    },
    {
     "data": {
      "image/png": "[encoded data removed]",
      "text/latex": [
       "$$\\frac{d}{d x} \\log{\\left (\\tan{\\left (x \\right )} \\right )}$$"
      ],
      "text/plain": [
       "d              \n",
       "──(log(tan(x)))\n",
       "dx             "
      ]
     },
     "execution_count": 85,
     "metadata": {},
     "output_type": "execute_result"
    }
   ],
   "source": [
    "expr = log(tan(x))\n",
    "deriv = Derivative(expr,x,1)\n",
    "print( 'No.14')\n",
    "deriv"
   ]
  },
  {
   "cell_type": "code",
   "execution_count": 86,
   "metadata": {},
   "outputs": [
    {
     "data": {
      "image/png": "[encoded data removed]",
      "text/latex": [
       "$$\\frac{2}{\\sin{\\left (2 x \\right )}}$$"
      ],
      "text/plain": [
       "   2    \n",
       "────────\n",
       "sin(2⋅x)"
      ]
     },
     "execution_count": 86,
     "metadata": {},
     "output_type": "execute_result"
    }
   ],
   "source": [
    "simplify(deriv.doit())"
   ]
  },
  {
   "cell_type": "code",
   "execution_count": 87,
   "metadata": {},
   "outputs": [
    {
     "name": "stdout",
     "output_type": "stream",
     "text": [
      "No.15\n"
     ]
    },
    {
     "data": {
      "image/png": "[encoded data removed]",
      "text/latex": [
       "$$\\frac{d}{d x} x^{x}$$"
      ],
      "text/plain": [
       "d ⎛ x⎞\n",
       "──⎝x ⎠\n",
       "dx    "
      ]
     },
     "execution_count": 87,
     "metadata": {},
     "output_type": "execute_result"
    }
   ],
   "source": [
    "expr = x**x\n",
    "deriv = Derivative(expr,x,1)\n",
    "print( 'No.15')\n",
    "deriv"
   ]
  },
  {
   "cell_type": "code",
   "execution_count": 88,
   "metadata": {},
   "outputs": [
    {
     "data": {
      "image/png": "[encoded data removed]",
      "text/latex": [
       "$$x^{x} \\left(\\log{\\left (x \\right )} + 1\\right)$$"
      ],
      "text/plain": [
       " x             \n",
       "x ⋅(log(x) + 1)"
      ]
     },
     "execution_count": 88,
     "metadata": {},
     "output_type": "execute_result"
    }
   ],
   "source": [
    "deriv.doit()"
   ]
  },
  {
   "cell_type": "code",
   "execution_count": 89,
   "metadata": {},
   "outputs": [
    {
     "name": "stdout",
     "output_type": "stream",
     "text": [
      "No.16\n"
     ]
    },
    {
     "data": {
      "image/png": "[encoded data removed]",
      "text/latex": [
       "$$\\frac{d}{d x} x^{x^{x}}$$"
      ],
      "text/plain": [
       "  ⎛ ⎛ x⎞⎞\n",
       "d ⎜ ⎝x ⎠⎟\n",
       "──⎝x    ⎠\n",
       "dx       "
      ]
     },
     "execution_count": 89,
     "metadata": {},
     "output_type": "execute_result"
    }
   ],
   "source": [
    "expr =x**x**x\n",
    "deriv = Derivative(expr,x,1)\n",
    "print( 'No.16')\n",
    "deriv\n",
    "#deriv.doit()"
   ]
  },
  {
   "cell_type": "code",
   "execution_count": 90,
   "metadata": {},
   "outputs": [
    {
     "data": {
      "image/png": "[encoded data removed]",
      "text/latex": [
       "$$x^{x^{x}} \\left(x^{x} \\left(\\log{\\left (x \\right )} + 1\\right) \\log{\\left (x \\right )} + \\frac{x^{x}}{x}\\right)$$"
      ],
      "text/plain": [
       " ⎛ x⎞ ⎛                          x⎞\n",
       " ⎝x ⎠ ⎜ x                       x ⎟\n",
       "x    ⋅⎜x ⋅(log(x) + 1)⋅log(x) + ──⎟\n",
       "      ⎝                         x ⎠"
      ]
     },
     "execution_count": 90,
     "metadata": {},
     "output_type": "execute_result"
    }
   ],
   "source": [
    "deriv.doit()"
   ]
  },
  {
   "cell_type": "code",
   "execution_count": 91,
   "metadata": {},
   "outputs": [
    {
     "name": "stdout",
     "output_type": "stream",
     "text": [
      "No.17\n"
     ]
    },
    {
     "data": {
      "image/png": "[encoded data removed]",
      "text/latex": [
       "$$\\frac{d}{d x} \\operatorname{asin}{\\left (x^{3} \\right )}$$"
      ],
      "text/plain": [
       "d ⎛    ⎛ 3⎞⎞\n",
       "──⎝asin⎝x ⎠⎠\n",
       "dx          "
      ]
     },
     "execution_count": 91,
     "metadata": {},
     "output_type": "execute_result"
    }
   ],
   "source": [
    "expr = asin(x**3)\n",
    "deriv = Derivative(expr,x,1)\n",
    "print( 'No.17')\n",
    "deriv"
   ]
  },
  {
   "cell_type": "markdown",
   "metadata": {},
   "source": [
    "$$ \\frac{d}{dx}\\sin^{-1}(x^3) $$"
   ]
  },
  {
   "cell_type": "code",
   "execution_count": 92,
   "metadata": {},
   "outputs": [
    {
     "data": {
      "image/png": "[encoded data removed]",
      "text/latex": [
       "$$\\frac{3 x^{2}}{\\sqrt{- x^{6} + 1}}$$"
      ],
      "text/plain": [
       "        2    \n",
       "     3⋅x     \n",
       "─────────────\n",
       "   __________\n",
       "  ╱    6     \n",
       "╲╱  - x  + 1 "
      ]
     },
     "execution_count": 92,
     "metadata": {},
     "output_type": "execute_result"
    }
   ],
   "source": [
    "simplify(deriv.doit())"
   ]
  },
  {
   "cell_type": "code",
   "execution_count": 93,
   "metadata": {},
   "outputs": [
    {
     "name": "stdout",
     "output_type": "stream",
     "text": [
      "No.18\n"
     ]
    },
    {
     "data": {
      "image/png": "[encoded data removed]",
      "text/latex": [
       "$$\\frac{d}{d x}\\left(\\left(x^{2} + 1\\right) \\operatorname{atan}{\\left (x \\right )}\\right)$$"
      ],
      "text/plain": [
       "d ⎛⎛ 2    ⎞        ⎞\n",
       "──⎝⎝x  + 1⎠⋅atan(x)⎠\n",
       "dx                  "
      ]
     },
     "execution_count": 93,
     "metadata": {},
     "output_type": "execute_result"
    }
   ],
   "source": [
    "expr = (1+x**2)*atan(x)\n",
    "deriv = Derivative(expr,x,1)\n",
    "print( 'No.18')\n",
    "deriv"
   ]
  },
  {
   "cell_type": "markdown",
   "metadata": {},
   "source": [
    "$$ \\frac{d}{dx} ((x^2 +1 )\\tan^{-1}(x) )$$"
   ]
  },
  {
   "cell_type": "code",
   "execution_count": 94,
   "metadata": {},
   "outputs": [
    {
     "data": {
      "image/png": "[encoded data removed]",
      "text/latex": [
       "$$2 x \\operatorname{atan}{\\left (x \\right )} + 1$$"
      ],
      "text/plain": [
       "2⋅x⋅atan(x) + 1"
      ]
     },
     "execution_count": 94,
     "metadata": {},
     "output_type": "execute_result"
    }
   ],
   "source": [
    "simplify(deriv.doit())"
   ]
  },
  {
   "cell_type": "markdown",
   "metadata": {},
   "source": [
    "$$ 2x\\tan^{-1}(x)+1 $$"
   ]
  },
  {
   "cell_type": "code",
   "execution_count": 101,
   "metadata": {},
   "outputs": [
    {
     "name": "stdout",
     "output_type": "stream",
     "text": [
      "No.19\n"
     ]
    },
    {
     "data": {
      "image/png": "[encoded data removed]",
      "text/latex": [
       "$$\\frac{\\partial}{\\partial x}\\left(\\frac{1}{a} \\operatorname{atan}{\\left (\\frac{x}{a} \\right )}\\right)$$"
      ],
      "text/plain": [
       "  ⎛    ⎛x⎞⎞\n",
       "  ⎜atan⎜─⎟⎟\n",
       "∂ ⎜    ⎝a⎠⎟\n",
       "──⎜───────⎟\n",
       "∂x⎝   a   ⎠"
      ]
     },
     "execution_count": 101,
     "metadata": {},
     "output_type": "execute_result"
    }
   ],
   "source": [
    "expr = (1/a)*atan(x/a)\n",
    "deriv = Derivative(expr,x,1)\n",
    "print( 'No.19')\n",
    "deriv"
   ]
  },
  {
   "cell_type": "markdown",
   "metadata": {},
   "source": [
    "$$ \\frac{d}{dx} ( \\frac{1}{a}\\tan^{-1}(\\frac{x}{a}) )$$"
   ]
  },
  {
   "cell_type": "code",
   "execution_count": 102,
   "metadata": {},
   "outputs": [
    {
     "data": {
      "image/png": "[encoded data removed]",
      "text/latex": [
       "$$\\frac{1}{a^{2} + x^{2}}$$"
      ],
      "text/plain": [
       "   1   \n",
       "───────\n",
       " 2    2\n",
       "a  + x "
      ]
     },
     "execution_count": 102,
     "metadata": {},
     "output_type": "execute_result"
    }
   ],
   "source": []
  },
  {
   "cell_type": "code",
   "execution_count": null,
   "metadata": {},
   "outputs": [],
   "source": []
  }
 ],
 "metadata": {
  "kernelspec": {
   "display_name": "Python 3",
   "language": "python",
   "name": "python3"
  },
  "language_info": {
   "codemirror_mode": {
    "name": "ipython",
    "version": 3
   },
   "file_extension": ".py",
   "mimetype": "text/x-python",
   "name": "python",
   "nbconvert_exporter": "python",
   "pygments_lexer": "ipython3",
   "version": "3.6.4"
  }
 },
 "nbformat": 4,
 "nbformat_minor": 2
}
