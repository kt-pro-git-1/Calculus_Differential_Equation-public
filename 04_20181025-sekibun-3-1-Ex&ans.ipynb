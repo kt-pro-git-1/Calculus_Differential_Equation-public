{
 "cells": [
  {
   "cell_type": "markdown",
   "metadata": {},
   "source": [
    "# 微積分の計算について　　　N0.3　不定積分の内容－2  置換積分"
   ]
  },
  {
   "cell_type": "markdown",
   "metadata": {},
   "source": [
    "###  学籍番号[＿＿＿＿＿＿＿＿＿]クラス[＿＿＿＿＿]　クラス番号[＿＿＿＿＿] 名前[＿＿＿＿＿＿＿＿＿＿＿＿＿＿＿]"
   ]
  },
  {
   "cell_type": "markdown",
   "metadata": {},
   "source": [
    "##### 積分の手法　（１）置換積分法"
   ]
  },
  {
   "cell_type": "markdown",
   "metadata": {},
   "source": [
    "$$  t= g(x) または　x=u(t) $$"
   ]
  },
  {
   "cell_type": "markdown",
   "metadata": {},
   "source": [
    "$$ \\int f(x)dx = \\int f(u)\\frac{du}{dt}dt $$"
   ]
  },
  {
   "cell_type": "code",
   "execution_count": 30,
   "metadata": {},
   "outputs": [],
   "source": [
    "from sympy import *\n",
    "x, n , y, a = symbols('x n y a')\n",
    "init_printing()\n",
    "m ='3-2'\n",
    "i =0"
   ]
  },
  {
   "cell_type": "markdown",
   "metadata": {},
   "source": [
    " ### 例題ー１"
   ]
  },
  {
   "cell_type": "code",
   "execution_count": 32,
   "metadata": {},
   "outputs": [
    {
     "name": "stdout",
     "output_type": "stream",
     "text": [
      "No. 3-2 --- 1\n"
     ]
    },
    {
     "data": {
      "image/png": "[encoded data removed]",
      "text/latex": [
       "$$\\int \\left(x + 1\\right)^{2}\\, dx$$"
      ],
      "text/plain": [
       "⌠            \n",
       "⎮        2   \n",
       "⎮ (x + 1)  dx\n",
       "⌡            "
      ]
     },
     "execution_count": 32,
     "metadata": {},
     "output_type": "execute_result"
    }
   ],
   "source": [
    "expr = (x+1)**2\n",
    "itg = Integral(expr,x)\n",
    "i=i+1\n",
    "print( 'No.',m,'---',i)\n",
    "itg"
   ]
  },
  {
   "cell_type": "code",
   "execution_count": 33,
   "metadata": {},
   "outputs": [
    {
     "data": {
      "image/png": "[encoded data removed]",
      "text/latex": [
       "$$\\frac{x^{3}}{3} + x^{2} + x$$"
      ],
      "text/plain": [
       " 3         \n",
       "x     2    \n",
       "── + x  + x\n",
       "3          "
      ]
     },
     "execution_count": 33,
     "metadata": {},
     "output_type": "execute_result"
    }
   ],
   "source": [
    "itg.doit()"
   ]
  },
  {
   "cell_type": "code",
   "execution_count": 34,
   "metadata": {},
   "outputs": [
    {
     "name": "stdout",
     "output_type": "stream",
     "text": [
      "No. 3-2 --- 2\n"
     ]
    },
    {
     "data": {
      "image/png": "[encoded data removed]",
      "text/latex": [
       "$$\\int \\sqrt{x + 1}\\, dx$$"
      ],
      "text/plain": [
       "⌠             \n",
       "⎮   _______   \n",
       "⎮ ╲╱ x + 1  dx\n",
       "⌡             "
      ]
     },
     "execution_count": 34,
     "metadata": {},
     "output_type": "execute_result"
    }
   ],
   "source": [
    "expr = sqrt(x+1)\n",
    "itg = Integral(expr,x)\n",
    "i=i+1\n",
    "print( 'No.',m,'---',i)\n",
    "itg"
   ]
  },
  {
   "cell_type": "code",
   "execution_count": 35,
   "metadata": {},
   "outputs": [
    {
     "data": {
      "image/png": "[encoded data removed]",
      "text/latex": [
       "$$\\frac{2}{3} \\left(x + 1\\right)^{\\frac{3}{2}}$$"
      ],
      "text/plain": [
       "         3/2\n",
       "2⋅(x + 1)   \n",
       "────────────\n",
       "     3      "
      ]
     },
     "execution_count": 35,
     "metadata": {},
     "output_type": "execute_result"
    }
   ],
   "source": [
    "itg.doit()"
   ]
  },
  {
   "cell_type": "code",
   "execution_count": 36,
   "metadata": {},
   "outputs": [
    {
     "name": "stdout",
     "output_type": "stream",
     "text": [
      "No. 3-2 --- 3\n"
     ]
    },
    {
     "data": {
      "image/png": "[encoded data removed]",
      "text/latex": [
       "$$\\int \\cos{\\left (2 x \\right )}\\, dx$$"
      ],
      "text/plain": [
       "⌠            \n",
       "⎮ cos(2⋅x) dx\n",
       "⌡            "
      ]
     },
     "execution_count": 36,
     "metadata": {},
     "output_type": "execute_result"
    }
   ],
   "source": [
    "expr = cos(2*x)\n",
    "itg = Integral(expr,x)\n",
    "i=i+1\n",
    "print( 'No.',m,'---',i)\n",
    "itg"
   ]
  },
  {
   "cell_type": "code",
   "execution_count": 37,
   "metadata": {},
   "outputs": [
    {
     "name": "stdout",
     "output_type": "stream",
     "text": [
      "No. 3-2 --- 4\n"
     ]
    },
    {
     "data": {
      "image/png": "[encoded data removed]",
      "text/latex": [
       "$$\\int \\cos^{3}{\\left (x \\right )}\\, dx$$"
      ],
      "text/plain": [
       "⌠           \n",
       "⎮    3      \n",
       "⎮ cos (x) dx\n",
       "⌡           "
      ]
     },
     "execution_count": 37,
     "metadata": {},
     "output_type": "execute_result"
    }
   ],
   "source": [
    "expr = cos(x)**3\n",
    "itg = Integral(expr,x)\n",
    "i=i+1\n",
    "print( 'No.',m,'---',i)\n",
    "itg"
   ]
  },
  {
   "cell_type": "code",
   "execution_count": 38,
   "metadata": {},
   "outputs": [
    {
     "data": {
      "image/png": "[encoded data removed]",
      "text/latex": [
       "$$- \\frac{1}{3} \\sin^{3}{\\left (x \\right )} + \\sin{\\left (x \\right )}$$"
      ],
      "text/plain": [
       "     3            \n",
       "  sin (x)         \n",
       "- ─────── + sin(x)\n",
       "     3            "
      ]
     },
     "execution_count": 38,
     "metadata": {},
     "output_type": "execute_result"
    }
   ],
   "source": [
    "itg.doit()"
   ]
  },
  {
   "cell_type": "code",
   "execution_count": 39,
   "metadata": {},
   "outputs": [
    {
     "data": {
      "image/png": "[encoded data removed]",
      "text/latex": [
       "$$- \\frac{1}{3} \\sin^{3}{\\left (x \\right )} + \\sin{\\left (x \\right )}$$"
      ],
      "text/plain": [
       "     3            \n",
       "  sin (x)         \n",
       "- ─────── + sin(x)\n",
       "     3            "
      ]
     },
     "execution_count": 39,
     "metadata": {},
     "output_type": "execute_result"
    }
   ],
   "source": [
    "itg.doit()"
   ]
  },
  {
   "cell_type": "code",
   "execution_count": 40,
   "metadata": {},
   "outputs": [
    {
     "name": "stdout",
     "output_type": "stream",
     "text": [
      "No. 3-2 --- 5\n"
     ]
    },
    {
     "data": {
      "image/png": "[encoded data removed]",
      "text/latex": [
       "$$\\int \\frac{x}{x + 1}\\, dx$$"
      ],
      "text/plain": [
       "⌠         \n",
       "⎮   x     \n",
       "⎮ ───── dx\n",
       "⎮ x + 1   \n",
       "⌡         "
      ]
     },
     "execution_count": 40,
     "metadata": {},
     "output_type": "execute_result"
    }
   ],
   "source": [
    "expr = x/(x+1)\n",
    "itg = Integral(expr,x)\n",
    "i=i+1\n",
    "print( 'No.',m,'---',i)\n",
    "itg"
   ]
  },
  {
   "cell_type": "code",
   "execution_count": 41,
   "metadata": {},
   "outputs": [
    {
     "data": {
      "image/png": "[encoded data removed]",
      "text/latex": [
       "$$x - \\log{\\left (x + 1 \\right )}$$"
      ],
      "text/plain": [
       "x - log(x + 1)"
      ]
     },
     "execution_count": 41,
     "metadata": {},
     "output_type": "execute_result"
    }
   ],
   "source": [
    "itg.doit()"
   ]
  },
  {
   "cell_type": "code",
   "execution_count": 42,
   "metadata": {},
   "outputs": [
    {
     "name": "stdout",
     "output_type": "stream",
     "text": [
      "No. 3-2 --- 6\n"
     ]
    },
    {
     "data": {
      "image/png": "[encoded data removed]",
      "text/latex": [
       "$$\\int \\frac{1}{\\left(x - 1\\right)^{2}}\\, dx$$"
      ],
      "text/plain": [
       "⌠            \n",
       "⎮    1       \n",
       "⎮ ──────── dx\n",
       "⎮        2   \n",
       "⎮ (x - 1)    \n",
       "⌡            "
      ]
     },
     "execution_count": 42,
     "metadata": {},
     "output_type": "execute_result"
    }
   ],
   "source": [
    "expr = 1/(x-1)**2\n",
    "itg = Integral(expr,x)\n",
    "i=i+1\n",
    "print( 'No.',m,'---',i)\n",
    "itg"
   ]
  },
  {
   "cell_type": "code",
   "execution_count": 43,
   "metadata": {},
   "outputs": [
    {
     "data": {
      "image/png": "[encoded data removed]",
      "text/latex": [
       "$$- \\frac{1}{x - 1}$$"
      ],
      "text/plain": [
       " -1  \n",
       "─────\n",
       "x - 1"
      ]
     },
     "execution_count": 43,
     "metadata": {},
     "output_type": "execute_result"
    }
   ],
   "source": [
    "itg.doit()"
   ]
  },
  {
   "cell_type": "code",
   "execution_count": 44,
   "metadata": {},
   "outputs": [
    {
     "name": "stdout",
     "output_type": "stream",
     "text": [
      "No. 3-2 --- 7\n"
     ]
    },
    {
     "data": {
      "image/png": "[encoded data removed]",
      "text/latex": [
       "$$\\int \\frac{x}{\\sqrt{a^{2} + x^{2}}}\\, dx$$"
      ],
      "text/plain": [
       "⌠                \n",
       "⎮      x         \n",
       "⎮ ──────────── dx\n",
       "⎮    _________   \n",
       "⎮   ╱  2    2    \n",
       "⎮ ╲╱  a  + x     \n",
       "⌡                "
      ]
     },
     "execution_count": 44,
     "metadata": {},
     "output_type": "execute_result"
    }
   ],
   "source": [
    "expr = x/sqrt(x**2+a**2)\n",
    "itg = Integral(expr,x)\n",
    "i=i+1\n",
    "print( 'No.',m,'---',i)\n",
    "itg"
   ]
  },
  {
   "cell_type": "code",
   "execution_count": 45,
   "metadata": {},
   "outputs": [
    {
     "data": {
      "image/png": "[encoded data removed]",
      "text/latex": [
       "$$\\sqrt{a^{2} + x^{2}}$$"
      ],
      "text/plain": [
       "   _________\n",
       "  ╱  2    2 \n",
       "╲╱  a  + x  "
      ]
     },
     "execution_count": 45,
     "metadata": {},
     "output_type": "execute_result"
    }
   ],
   "source": [
    "itg.doit()"
   ]
  },
  {
   "cell_type": "code",
   "execution_count": 46,
   "metadata": {},
   "outputs": [
    {
     "name": "stdout",
     "output_type": "stream",
     "text": [
      "No. 3-2 --- 8\n"
     ]
    },
    {
     "data": {
      "image/png": "[encoded data removed]",
      "text/latex": [
       "$$\\int \\sin^{2}{\\left (x \\right )} \\cos{\\left (x \\right )}\\, dx$$"
      ],
      "text/plain": [
       "⌠                  \n",
       "⎮    2             \n",
       "⎮ sin (x)⋅cos(x) dx\n",
       "⌡                  "
      ]
     },
     "execution_count": 46,
     "metadata": {},
     "output_type": "execute_result"
    }
   ],
   "source": [
    "expr = sin(x)**2 * cos(x)\n",
    "itg = Integral(expr,x)\n",
    "i=i+1\n",
    "print( 'No.',m,'---',i)\n",
    "itg"
   ]
  },
  {
   "cell_type": "code",
   "execution_count": 47,
   "metadata": {},
   "outputs": [
    {
     "data": {
      "image/png": "[encoded data removed]",
      "text/latex": [
       "$$\\frac{1}{3} \\sin^{3}{\\left (x \\right )}$$"
      ],
      "text/plain": [
       "   3   \n",
       "sin (x)\n",
       "───────\n",
       "   3   "
      ]
     },
     "execution_count": 47,
     "metadata": {},
     "output_type": "execute_result"
    }
   ],
   "source": [
    "itg.doit()"
   ]
  },
  {
   "cell_type": "code",
   "execution_count": null,
   "metadata": {},
   "outputs": [],
   "source": []
  },
  {
   "cell_type": "code",
   "execution_count": null,
   "metadata": {},
   "outputs": [],
   "source": []
  }
 ],
 "metadata": {
  "kernelspec": {
   "display_name": "Python 3",
   "language": "python",
   "name": "python3"
  },
  "language_info": {
   "codemirror_mode": {
    "name": "ipython",
    "version": 3
   },
   "file_extension": ".py",
   "mimetype": "text/x-python",
   "name": "python",
   "nbconvert_exporter": "python",
   "pygments_lexer": "ipython3",
   "version": "3.6.4"
  }
 },
 "nbformat": 4,
 "nbformat_minor": 2
}
