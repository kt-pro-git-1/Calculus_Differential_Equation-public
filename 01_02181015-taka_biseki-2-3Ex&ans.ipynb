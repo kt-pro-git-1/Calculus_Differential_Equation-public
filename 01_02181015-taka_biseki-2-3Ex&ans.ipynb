{
 "cells": [
  {
   "cell_type": "markdown",
   "metadata": {},
   "source": [
    "### 微積分の計算について  No.2  問題と解答"
   ]
  },
  {
   "cell_type": "markdown",
   "metadata": {},
   "source": [
    "##### 学籍番号[＿＿＿＿＿＿＿＿＿]クラス[＿＿＿＿＿]　クラス番号[＿＿＿＿＿] 名前[＿＿＿＿＿＿＿＿＿＿＿＿＿＿＿]"
   ]
  },
  {
   "cell_type": "code",
   "execution_count": 2,
   "metadata": {},
   "outputs": [],
   "source": [
    "from sympy import *\n",
    "x, n , y = symbols('x n y')\n",
    "init_printing()"
   ]
  },
  {
   "cell_type": "code",
   "execution_count": 2,
   "metadata": {},
   "outputs": [
    {
     "name": "stdout",
     "output_type": "stream",
     "text": [
      "No.1\n"
     ]
    },
    {
     "data": {
      "image/png": "[encoded data removed]",
      "text/latex": [
       "$$\\frac{d}{d x}\\left(x^{5} - 2 x^{3} + x + 3\\right)$$"
      ],
      "text/plain": [
       "d ⎛ 5      3        ⎞\n",
       "──⎝x  - 2⋅x  + x + 3⎠\n",
       "dx                   "
      ]
     },
     "execution_count": 2,
     "metadata": {},
     "output_type": "execute_result"
    }
   ],
   "source": [
    "expr = x**5-2*x**3+x+3\n",
    "deriv = Derivative(expr,x,1)\n",
    "print( 'No.1')\n",
    "deriv"
   ]
  },
  {
   "cell_type": "code",
   "execution_count": 3,
   "metadata": {},
   "outputs": [
    {
     "data": {
      "image/png": "[encoded data removed]",
      "text/latex": [
       "$$5 x^{4} - 6 x^{2} + 1$$"
      ],
      "text/plain": [
       "   4      2    \n",
       "5⋅x  - 6⋅x  + 1"
      ]
     },
     "execution_count": 3,
     "metadata": {},
     "output_type": "execute_result"
    }
   ],
   "source": [
    "deriv.doit()"
   ]
  },
  {
   "cell_type": "code",
   "execution_count": 4,
   "metadata": {},
   "outputs": [
    {
     "name": "stdout",
     "output_type": "stream",
     "text": [
      "No.2\n"
     ]
    },
    {
     "data": {
      "image/png": "[encoded data removed]",
      "text/latex": [
       "$$\\frac{d}{d x}\\left(\\left(x^{2} + 1\\right) \\left(x^{2} - 3 x + 1\\right)\\right)$$"
      ],
      "text/plain": [
       "d ⎛⎛ 2    ⎞ ⎛ 2          ⎞⎞\n",
       "──⎝⎝x  + 1⎠⋅⎝x  - 3⋅x + 1⎠⎠\n",
       "dx                         "
      ]
     },
     "execution_count": 4,
     "metadata": {},
     "output_type": "execute_result"
    }
   ],
   "source": [
    "expr = (x**2-3*x+1)*(x**2+1)\n",
    "deriv = Derivative(expr,x,1)\n",
    "print( 'No.2')\n",
    "deriv"
   ]
  },
  {
   "cell_type": "code",
   "execution_count": 5,
   "metadata": {},
   "outputs": [
    {
     "data": {
      "image/png": "[encoded data removed]",
      "text/latex": [
       "$$2 x \\left(x^{2} - 3 x + 1\\right) + \\left(2 x - 3\\right) \\left(x^{2} + 1\\right)$$"
      ],
      "text/plain": [
       "    ⎛ 2          ⎞             ⎛ 2    ⎞\n",
       "2⋅x⋅⎝x  - 3⋅x + 1⎠ + (2⋅x - 3)⋅⎝x  + 1⎠"
      ]
     },
     "execution_count": 5,
     "metadata": {},
     "output_type": "execute_result"
    }
   ],
   "source": [
    "deriv.doit()"
   ]
  },
  {
   "cell_type": "code",
   "execution_count": 6,
   "metadata": {},
   "outputs": [
    {
     "name": "stdout",
     "output_type": "stream",
     "text": [
      "No.3\n"
     ]
    },
    {
     "data": {
      "image/png": "[encoded data removed]",
      "text/latex": [
       "$$\\frac{d}{d x} \\frac{1}{x^{2} + 1}$$"
      ],
      "text/plain": [
       "d ⎛  1   ⎞\n",
       "──⎜──────⎟\n",
       "dx⎜ 2    ⎟\n",
       "  ⎝x  + 1⎠"
      ]
     },
     "execution_count": 6,
     "metadata": {},
     "output_type": "execute_result"
    }
   ],
   "source": [
    "expr = 1/(x**2+1)\n",
    "deriv = Derivative(expr,x,1)\n",
    "print( 'No.3')\n",
    "deriv"
   ]
  },
  {
   "cell_type": "code",
   "execution_count": 7,
   "metadata": {},
   "outputs": [
    {
     "data": {
      "image/png": "[encoded data removed]",
      "text/latex": [
       "$$- \\frac{2 x}{\\left(x^{2} + 1\\right)^{2}}$$"
      ],
      "text/plain": [
       "  -2⋅x   \n",
       "─────────\n",
       "        2\n",
       "⎛ 2    ⎞ \n",
       "⎝x  + 1⎠ "
      ]
     },
     "execution_count": 7,
     "metadata": {},
     "output_type": "execute_result"
    }
   ],
   "source": [
    "deriv.doit()"
   ]
  },
  {
   "cell_type": "code",
   "execution_count": 8,
   "metadata": {},
   "outputs": [
    {
     "name": "stdout",
     "output_type": "stream",
     "text": [
      "No.4\n"
     ]
    },
    {
     "data": {
      "image/png": "[encoded data removed]",
      "text/latex": [
       "$$\\frac{d}{d x} \\left(x^{2} + x + 1\\right)^{4}$$"
      ],
      "text/plain": [
       "  ⎛            4⎞\n",
       "d ⎜⎛ 2        ⎞ ⎟\n",
       "──⎝⎝x  + x + 1⎠ ⎠\n",
       "dx               "
      ]
     },
     "execution_count": 8,
     "metadata": {},
     "output_type": "execute_result"
    }
   ],
   "source": [
    "expr = (x**2+x+1)**4\n",
    "deriv = Derivative(expr,x,1)\n",
    "print( 'No.4')\n",
    "deriv"
   ]
  },
  {
   "cell_type": "code",
   "execution_count": 9,
   "metadata": {},
   "outputs": [
    {
     "data": {
      "image/png": "[encoded data removed]",
      "text/latex": [
       "$$\\left(8 x + 4\\right) \\left(x^{2} + x + 1\\right)^{3}$$"
      ],
      "text/plain": [
       "                      3\n",
       "          ⎛ 2        ⎞ \n",
       "(8⋅x + 4)⋅⎝x  + x + 1⎠ "
      ]
     },
     "execution_count": 9,
     "metadata": {},
     "output_type": "execute_result"
    }
   ],
   "source": [
    "deriv.doit()"
   ]
  },
  {
   "cell_type": "code",
   "execution_count": 10,
   "metadata": {},
   "outputs": [
    {
     "name": "stdout",
     "output_type": "stream",
     "text": [
      "No.5\n"
     ]
    },
    {
     "data": {
      "image/png": "[encoded data removed]",
      "text/latex": [
       "$$\\frac{d}{d x} \\sqrt[3]{x^{2} - x + 1}$$"
      ],
      "text/plain": [
       "  ⎛   ____________⎞\n",
       "d ⎜3 ╱  2         ⎟\n",
       "──⎝╲╱  x  - x + 1 ⎠\n",
       "dx                 "
      ]
     },
     "execution_count": 10,
     "metadata": {},
     "output_type": "execute_result"
    }
   ],
   "source": [
    "expr = cbrt(x**2-x+1)\n",
    "deriv = Derivative(expr,x,1)\n",
    "print( 'No.5')\n",
    "deriv"
   ]
  },
  {
   "cell_type": "code",
   "execution_count": 11,
   "metadata": {},
   "outputs": [
    {
     "data": {
      "image/png": "[encoded data removed]",
      "text/latex": [
       "$$\\frac{2 x - 1}{3 \\left(x^{2} - x + 1\\right)^{\\frac{2}{3}}}$$"
      ],
      "text/plain": [
       "     2⋅x - 1     \n",
       "─────────────────\n",
       "              2/3\n",
       "  ⎛ 2        ⎞   \n",
       "3⋅⎝x  - x + 1⎠   "
      ]
     },
     "execution_count": 11,
     "metadata": {},
     "output_type": "execute_result"
    }
   ],
   "source": [
    "simplify(deriv.doit())"
   ]
  },
  {
   "cell_type": "code",
   "execution_count": 12,
   "metadata": {},
   "outputs": [
    {
     "name": "stdout",
     "output_type": "stream",
     "text": [
      "No.6\n"
     ]
    },
    {
     "data": {
      "image/png": "[encoded data removed]",
      "text/latex": [
       "$$\\frac{d}{d x} \\sin{\\left (2 x + 2 \\right )}$$"
      ],
      "text/plain": [
       "d               \n",
       "──(sin(2⋅x + 2))\n",
       "dx              "
      ]
     },
     "execution_count": 12,
     "metadata": {},
     "output_type": "execute_result"
    }
   ],
   "source": [
    "expr = sin(2*x+2)\n",
    "deriv = Derivative(expr,x,1)\n",
    "print( 'No.6')\n",
    "deriv"
   ]
  },
  {
   "cell_type": "code",
   "execution_count": 13,
   "metadata": {},
   "outputs": [
    {
     "data": {
      "image/png": "[encoded data removed]",
      "text/latex": [
       "$$2 \\cos{\\left (2 x + 2 \\right )}$$"
      ],
      "text/plain": [
       "2⋅cos(2⋅x + 2)"
      ]
     },
     "execution_count": 13,
     "metadata": {},
     "output_type": "execute_result"
    }
   ],
   "source": [
    "simplify(deriv.doit())"
   ]
  },
  {
   "cell_type": "code",
   "execution_count": 14,
   "metadata": {},
   "outputs": [
    {
     "name": "stdout",
     "output_type": "stream",
     "text": [
      "No.7\n"
     ]
    },
    {
     "data": {
      "image/png": "[encoded data removed]",
      "text/latex": [
       "$$\\frac{d}{d x}\\left(\\sin{\\left (x \\right )} \\cos{\\left (2 x \\right )}\\right)$$"
      ],
      "text/plain": [
       "d                  \n",
       "──(sin(x)⋅cos(2⋅x))\n",
       "dx                 "
      ]
     },
     "execution_count": 14,
     "metadata": {},
     "output_type": "execute_result"
    }
   ],
   "source": [
    "expr = sin(x)*cos(2*x)\n",
    "deriv = Derivative(expr,x,1)\n",
    "print( 'No.7')\n",
    "deriv"
   ]
  },
  {
   "cell_type": "code",
   "execution_count": 15,
   "metadata": {},
   "outputs": [
    {
     "data": {
      "image/png": "[encoded data removed]",
      "text/latex": [
       "$$- 2 \\sin{\\left (x \\right )} \\sin{\\left (2 x \\right )} + \\cos{\\left (x \\right )} \\cos{\\left (2 x \\right )}$$"
      ],
      "text/plain": [
       "-2⋅sin(x)⋅sin(2⋅x) + cos(x)⋅cos(2⋅x)"
      ]
     },
     "execution_count": 15,
     "metadata": {},
     "output_type": "execute_result"
    }
   ],
   "source": [
    "deriv.doit()"
   ]
  },
  {
   "cell_type": "code",
   "execution_count": 16,
   "metadata": {},
   "outputs": [
    {
     "name": "stdout",
     "output_type": "stream",
     "text": [
      "No.8\n"
     ]
    },
    {
     "data": {
      "image/png": "[encoded data removed]",
      "text/latex": [
       "$$\\frac{d}{d x} 2^{3 x}$$"
      ],
      "text/plain": [
       "d ⎛ 3⋅x⎞\n",
       "──⎝2   ⎠\n",
       "dx      "
      ]
     },
     "execution_count": 16,
     "metadata": {},
     "output_type": "execute_result"
    }
   ],
   "source": [
    "expr = 2**(3*x)\n",
    "deriv = Derivative(expr,x,1)\n",
    "print( 'No.8')\n",
    "deriv"
   ]
  },
  {
   "cell_type": "code",
   "execution_count": 17,
   "metadata": {},
   "outputs": [
    {
     "data": {
      "image/png": "[encoded data removed]",
      "text/latex": [
       "$$3 \\cdot 2^{3 x} \\log{\\left (2 \\right )}$$"
      ],
      "text/plain": [
       "   3⋅x       \n",
       "3⋅2   ⋅log(2)"
      ]
     },
     "execution_count": 17,
     "metadata": {},
     "output_type": "execute_result"
    }
   ],
   "source": [
    "deriv.doit()"
   ]
  },
  {
   "cell_type": "code",
   "execution_count": 18,
   "metadata": {},
   "outputs": [
    {
     "name": "stdout",
     "output_type": "stream",
     "text": [
      "No.9\n"
     ]
    },
    {
     "data": {
      "image/png": "[encoded data removed]",
      "text/latex": [
       "$$\\frac{d}{d x}\\left(e^{x} \\sin{\\left (x \\right )}\\right)$$"
      ],
      "text/plain": [
       "d ⎛ x       ⎞\n",
       "──⎝ℯ ⋅sin(x)⎠\n",
       "dx           "
      ]
     },
     "execution_count": 18,
     "metadata": {},
     "output_type": "execute_result"
    }
   ],
   "source": [
    "expr = exp(x)*sin(x)\n",
    "deriv = Derivative(expr,x,1)\n",
    "print( 'No.9')\n",
    "deriv"
   ]
  },
  {
   "cell_type": "code",
   "execution_count": 19,
   "metadata": {},
   "outputs": [
    {
     "data": {
      "image/png": "[encoded data removed]",
      "text/latex": [
       "$$e^{x} \\sin{\\left (x \\right )} + e^{x} \\cos{\\left (x \\right )}$$"
      ],
      "text/plain": [
       " x           x       \n",
       "ℯ ⋅sin(x) + ℯ ⋅cos(x)"
      ]
     },
     "execution_count": 19,
     "metadata": {},
     "output_type": "execute_result"
    }
   ],
   "source": [
    "deriv.doit()"
   ]
  },
  {
   "cell_type": "code",
   "execution_count": 20,
   "metadata": {},
   "outputs": [
    {
     "name": "stdout",
     "output_type": "stream",
     "text": [
      "No.10\n"
     ]
    },
    {
     "data": {
      "image/png": "[encoded data removed]",
      "text/latex": [
       "$$\\frac{d}{d x} \\log{\\left (\\sqrt{x^{2} + 1} \\right )}$$"
      ],
      "text/plain": [
       "  ⎛   ⎛   ________⎞⎞\n",
       "d ⎜   ⎜  ╱  2     ⎟⎟\n",
       "──⎝log⎝╲╱  x  + 1 ⎠⎠\n",
       "dx                  "
      ]
     },
     "execution_count": 20,
     "metadata": {},
     "output_type": "execute_result"
    }
   ],
   "source": [
    "expr = log(sqrt(x**2+1))\n",
    "deriv = Derivative(expr,x,1)\n",
    "print( 'No.10')\n",
    "deriv"
   ]
  },
  {
   "cell_type": "markdown",
   "metadata": {},
   "source": [
    "  \n",
    "  \n",
    "  \n",
    "  "
   ]
  },
  {
   "cell_type": "code",
   "execution_count": 21,
   "metadata": {},
   "outputs": [
    {
     "data": {
      "image/png": "[encoded data removed]",
      "text/latex": [
       "$$\\frac{x}{x^{2} + 1}$$"
      ],
      "text/plain": [
       "  x   \n",
       "──────\n",
       " 2    \n",
       "x  + 1"
      ]
     },
     "execution_count": 21,
     "metadata": {},
     "output_type": "execute_result"
    }
   ],
   "source": [
    "deriv.doit()"
   ]
  },
  {
   "cell_type": "code",
   "execution_count": 22,
   "metadata": {},
   "outputs": [
    {
     "name": "stdout",
     "output_type": "stream",
     "text": [
      "No.11\n"
     ]
    },
    {
     "data": {
      "image/png": "[encoded data removed]",
      "text/latex": [
       "$$\\frac{d}{d x} \\sqrt{\\frac{x^{2} - 1}{x^{2} + 1}}$$"
      ],
      "text/plain": [
       "  ⎛      ________⎞\n",
       "  ⎜     ╱  2     ⎟\n",
       "d ⎜    ╱  x  - 1 ⎟\n",
       "──⎜   ╱   ────── ⎟\n",
       "dx⎜  ╱     2     ⎟\n",
       "  ⎝╲╱     x  + 1 ⎠"
      ]
     },
     "execution_count": 22,
     "metadata": {},
     "output_type": "execute_result"
    }
   ],
   "source": [
    "expr =sqrt((x**2-1)/(x**2+1))\n",
    "deriv = Derivative(expr,x,1)\n",
    "print( 'No.11')\n",
    "deriv"
   ]
  },
  {
   "cell_type": "code",
   "execution_count": 23,
   "metadata": {},
   "outputs": [
    {
     "data": {
      "image/png": "[encoded data removed]",
      "text/latex": [
       "$$\\frac{2 x}{x^{4} - 1} \\sqrt{\\frac{x^{2} - 1}{x^{2} + 1}}$$"
      ],
      "text/plain": [
       "          ________\n",
       "         ╱  2     \n",
       "        ╱  x  - 1 \n",
       "2⋅x⋅   ╱   ────── \n",
       "      ╱     2     \n",
       "    ╲╱     x  + 1 \n",
       "──────────────────\n",
       "       4          \n",
       "      x  - 1      "
      ]
     },
     "execution_count": 23,
     "metadata": {},
     "output_type": "execute_result"
    }
   ],
   "source": [
    "simplify(deriv.doit())"
   ]
  },
  {
   "cell_type": "code",
   "execution_count": 3,
   "metadata": {},
   "outputs": [
    {
     "name": "stdout",
     "output_type": "stream",
     "text": [
      "No.12\n"
     ]
    },
    {
     "data": {
      "image/png": "[encoded data removed]",
      "text/latex": [
       "$$\\frac{d}{d x} x^{x}$$"
      ],
      "text/plain": [
       "d ⎛ x⎞\n",
       "──⎝x ⎠\n",
       "dx    "
      ]
     },
     "execution_count": 3,
     "metadata": {},
     "output_type": "execute_result"
    }
   ],
   "source": [
    "expr = x**x\n",
    "deriv = Derivative(expr,x,1)\n",
    "print( 'No.12')\n",
    "deriv"
   ]
  },
  {
   "cell_type": "code",
   "execution_count": 4,
   "metadata": {},
   "outputs": [
    {
     "data": {
      "image/png": "[encoded data removed]",
      "text/latex": [
       "$$x^{x} \\left(\\log{\\left (x \\right )} + 1\\right)$$"
      ],
      "text/plain": [
       " x             \n",
       "x ⋅(log(x) + 1)"
      ]
     },
     "execution_count": 4,
     "metadata": {},
     "output_type": "execute_result"
    }
   ],
   "source": [
    "deriv.doit()"
   ]
  },
  {
   "cell_type": "code",
   "execution_count": 5,
   "metadata": {},
   "outputs": [
    {
     "name": "stdout",
     "output_type": "stream",
     "text": [
      "No.13\n"
     ]
    },
    {
     "data": {
      "image/png": "[encoded data removed]",
      "text/latex": [
       "$$\\frac{d}{d x} \\operatorname{asin}{\\left (x \\right )}$$"
      ],
      "text/plain": [
       "d          \n",
       "──(asin(x))\n",
       "dx         "
      ]
     },
     "execution_count": 5,
     "metadata": {},
     "output_type": "execute_result"
    }
   ],
   "source": [
    "expr = asin(x)\n",
    "deriv = Derivative(expr,x,1)\n",
    "print( 'No.13')\n",
    "deriv"
   ]
  },
  {
   "cell_type": "markdown",
   "metadata": {},
   "source": [
    "$$ \\frac{d}{dx}\\sin^{-1}(x) $$"
   ]
  },
  {
   "cell_type": "code",
   "execution_count": 6,
   "metadata": {},
   "outputs": [
    {
     "data": {
      "image/png": "[encoded data removed]",
      "text/latex": [
       "$$\\frac{1}{\\sqrt{- x^{2} + 1}}$$"
      ],
      "text/plain": [
       "      1      \n",
       "─────────────\n",
       "   __________\n",
       "  ╱    2     \n",
       "╲╱  - x  + 1 "
      ]
     },
     "execution_count": 6,
     "metadata": {},
     "output_type": "execute_result"
    }
   ],
   "source": [
    "deriv.doit()"
   ]
  },
  {
   "cell_type": "code",
   "execution_count": 7,
   "metadata": {},
   "outputs": [
    {
     "name": "stdout",
     "output_type": "stream",
     "text": [
      "No.14\n"
     ]
    },
    {
     "data": {
      "image/png": "[encoded data removed]",
      "text/latex": [
       "$$\\frac{d}{d x} \\operatorname{atan}{\\left (x \\right )}$$"
      ],
      "text/plain": [
       "d          \n",
       "──(atan(x))\n",
       "dx         "
      ]
     },
     "execution_count": 7,
     "metadata": {},
     "output_type": "execute_result"
    }
   ],
   "source": [
    "expr = atan(x)\n",
    "deriv = Derivative(expr,x,1)\n",
    "print( 'No.14')\n",
    "deriv"
   ]
  },
  {
   "cell_type": "markdown",
   "metadata": {},
   "source": [
    "$$ \\frac{d}{dx}\\tan^{-1}(x) $$"
   ]
  },
  {
   "cell_type": "code",
   "execution_count": 8,
   "metadata": {},
   "outputs": [
    {
     "data": {
      "image/png": "[encoded data removed]",
      "text/latex": [
       "$$\\frac{1}{x^{2} + 1}$$"
      ],
      "text/plain": [
       "  1   \n",
       "──────\n",
       " 2    \n",
       "x  + 1"
      ]
     },
     "execution_count": 8,
     "metadata": {},
     "output_type": "execute_result"
    }
   ],
   "source": [
    "deriv.doit()"
   ]
  },
  {
   "cell_type": "code",
   "execution_count": null,
   "metadata": {},
   "outputs": [],
   "source": []
  }
 ],
 "metadata": {
  "kernelspec": {
   "display_name": "Python 3",
   "language": "python",
   "name": "python3"
  },
  "language_info": {
   "codemirror_mode": {
    "name": "ipython",
    "version": 3
   },
   "file_extension": ".py",
   "mimetype": "text/x-python",
   "name": "python",
   "nbconvert_exporter": "python",
   "pygments_lexer": "ipython3",
   "version": "3.6.4"
  }
 },
 "nbformat": 4,
 "nbformat_minor": 2
}
