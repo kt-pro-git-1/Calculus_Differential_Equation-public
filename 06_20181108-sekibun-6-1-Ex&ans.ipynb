{
 "cells": [
  {
   "cell_type": "markdown",
   "metadata": {},
   "source": [
    "# 微積分の計算について　　　N0.4　定積分の内容－1"
   ]
  },
  {
   "cell_type": "markdown",
   "metadata": {},
   "source": [
    "###  学籍番号[＿＿＿＿＿＿＿＿＿]クラス[＿＿＿＿＿]　クラス番号[＿＿＿＿＿] 名前[＿＿＿＿＿＿＿＿＿＿＿＿＿＿＿]"
   ]
  },
  {
   "cell_type": "markdown",
   "metadata": {},
   "source": [
    "##### 積分の手法　"
   ]
  },
  {
   "cell_type": "markdown",
   "metadata": {},
   "source": [
    "$$ \\int_a^b f(x)dx =\\left[ F(x) \\right]_{a}^{b} = F(b)-F(a)$$ 　　　　F(x)はf(x)の積分　"
   ]
  },
  {
   "cell_type": "markdown",
   "metadata": {},
   "source": [
    "$$ \\int_a^b f(x)dx =-\\int_b^a f(x)dx  $$ ,$$   \\int_a^a f(x)dx =0  $$ "
   ]
  },
  {
   "cell_type": "markdown",
   "metadata": {},
   "source": [
    "$$ \\int_a^c f(x)dx = \\int_a^b f(x)dx + \\int_b^c f(x)dx $$"
   ]
  },
  {
   "cell_type": "markdown",
   "metadata": {},
   "source": [
    "f(x)が偶関数なら　$$   \\int_{-a}^{a} f(x)dx = 2 \\int_0^{a} f(x)dx$$ \n",
    "奇関数なら$$   \\int_{-a}^{a} f(x)dx = 0 $$ "
   ]
  },
  {
   "cell_type": "code",
   "execution_count": 1,
   "metadata": {},
   "outputs": [],
   "source": [
    "from sympy import *\n",
    "x, n , y, a = symbols('x n y a')\n",
    "init_printing()\n",
    "m ='3//5'\n",
    "i =0"
   ]
  },
  {
   "cell_type": "markdown",
   "metadata": {},
   "source": [
    " ### 例題ー1"
   ]
  },
  {
   "cell_type": "code",
   "execution_count": 73,
   "metadata": {},
   "outputs": [
    {
     "name": "stdout",
     "output_type": "stream",
     "text": [
      "No. 3//5 --- 1\n"
     ]
    },
    {
     "data": {
      "image/png": "[encoded data removed]",
      "text/latex": [
       "$$\\int_{-1}^{1} x^{2}\\, dx$$"
      ],
      "text/plain": [
       "1       \n",
       "⌠       \n",
       "⎮   2   \n",
       "⎮  x  dx\n",
       "⌡       \n",
       "-1      "
      ]
     },
     "execution_count": 73,
     "metadata": {},
     "output_type": "execute_result"
    }
   ],
   "source": [
    "expr = x**2\n",
    "itg = Integral(expr,(x,-1,1))\n",
    "i=i+1\n",
    "print( 'No.',m,'---',i)\n",
    "itg"
   ]
  },
  {
   "cell_type": "code",
   "execution_count": 74,
   "metadata": {},
   "outputs": [
    {
     "data": {
      "image/png": "[encoded data removed]",
      "text/latex": [
       "$$\\frac{2}{3}$$"
      ],
      "text/plain": [
       "2/3"
      ]
     },
     "execution_count": 74,
     "metadata": {},
     "output_type": "execute_result"
    }
   ],
   "source": [
    "simplify(itg.doit())"
   ]
  },
  {
   "cell_type": "code",
   "execution_count": 75,
   "metadata": {},
   "outputs": [
    {
     "name": "stdout",
     "output_type": "stream",
     "text": [
      "No. 3//5 --- 2\n"
     ]
    },
    {
     "data": {
      "image/png": "[encoded data removed]",
      "text/latex": [
       "$$\\int_{-1}^{1} x^{3}\\, dx$$"
      ],
      "text/plain": [
       "1       \n",
       "⌠       \n",
       "⎮   3   \n",
       "⎮  x  dx\n",
       "⌡       \n",
       "-1      "
      ]
     },
     "execution_count": 75,
     "metadata": {},
     "output_type": "execute_result"
    }
   ],
   "source": [
    "expr = x**3\n",
    "itg = Integral(expr,(x,-1,1))\n",
    "i=i+1\n",
    "print( 'No.',m,'---',i)\n",
    "itg"
   ]
  },
  {
   "cell_type": "code",
   "execution_count": 76,
   "metadata": {},
   "outputs": [
    {
     "data": {
      "image/png": "[encoded data removed]",
      "text/latex": [
       "$$0$$"
      ],
      "text/plain": [
       "0"
      ]
     },
     "execution_count": 76,
     "metadata": {},
     "output_type": "execute_result"
    }
   ],
   "source": [
    "simplify(itg.doit())"
   ]
  },
  {
   "cell_type": "code",
   "execution_count": 77,
   "metadata": {},
   "outputs": [
    {
     "name": "stdout",
     "output_type": "stream",
     "text": [
      "No. 3//5 --- 3\n"
     ]
    },
    {
     "data": {
      "image/png": "[encoded data removed]",
      "text/latex": [
       "$$\\int_{0}^{\\frac{\\pi}{2}} \\sin{\\left (x \\right )}\\, dx$$"
      ],
      "text/plain": [
       "π          \n",
       "─          \n",
       "2          \n",
       "⌠          \n",
       "⎮ sin(x) dx\n",
       "⌡          \n",
       "0          "
      ]
     },
     "execution_count": 77,
     "metadata": {},
     "output_type": "execute_result"
    }
   ],
   "source": [
    "expr = sin(x)\n",
    "itg = Integral(expr,(x,0,pi/2))\n",
    "i=i+1\n",
    "print( 'No.',m,'---',i)\n",
    "itg"
   ]
  },
  {
   "cell_type": "code",
   "execution_count": 78,
   "metadata": {},
   "outputs": [
    {
     "data": {
      "image/png": "[encoded data removed]",
      "text/latex": [
       "$$1$$"
      ],
      "text/plain": [
       "1"
      ]
     },
     "execution_count": 78,
     "metadata": {},
     "output_type": "execute_result"
    }
   ],
   "source": [
    "simplify(itg.doit())"
   ]
  },
  {
   "cell_type": "code",
   "execution_count": 79,
   "metadata": {},
   "outputs": [
    {
     "name": "stdout",
     "output_type": "stream",
     "text": [
      "No. 3//5 --- 4\n"
     ]
    },
    {
     "data": {
      "image/png": "[encoded data removed]",
      "text/latex": [
       "$$\\int_{0}^{\\frac{\\pi}{2}} \\left(\\sin{\\left (x \\right )} + \\cos{\\left (x \\right )}\\right)\\, dx$$"
      ],
      "text/plain": [
       "π                     \n",
       "─                     \n",
       "2                     \n",
       "⌠                     \n",
       "⎮ (sin(x) + cos(x)) dx\n",
       "⌡                     \n",
       "0                     "
      ]
     },
     "execution_count": 79,
     "metadata": {},
     "output_type": "execute_result"
    }
   ],
   "source": [
    "expr = cos(x)+sin(x)\n",
    "itg = Integral(expr,(x,0,pi/2))\n",
    "i=i+1\n",
    "print( 'No.',m,'---',i)\n",
    "itg"
   ]
  },
  {
   "cell_type": "code",
   "execution_count": 80,
   "metadata": {},
   "outputs": [
    {
     "data": {
      "image/png": "[encoded data removed]",
      "text/latex": [
       "$$2$$"
      ],
      "text/plain": [
       "2"
      ]
     },
     "execution_count": 80,
     "metadata": {},
     "output_type": "execute_result"
    }
   ],
   "source": [
    "simplify(itg.doit())"
   ]
  },
  {
   "cell_type": "code",
   "execution_count": 81,
   "metadata": {},
   "outputs": [
    {
     "name": "stdout",
     "output_type": "stream",
     "text": [
      "No. 3//5 --- 5\n"
     ]
    },
    {
     "data": {
      "image/png": "[encoded data removed]",
      "text/latex": [
       "$$\\int_{2}^{4} \\frac{1}{x + 1}\\, dx$$"
      ],
      "text/plain": [
       "4         \n",
       "⌠         \n",
       "⎮   1     \n",
       "⎮ ───── dx\n",
       "⎮ x + 1   \n",
       "⌡         \n",
       "2         "
      ]
     },
     "execution_count": 81,
     "metadata": {},
     "output_type": "execute_result"
    }
   ],
   "source": [
    "expr = 1/(x+1)\n",
    "itg = Integral(expr,(x,2,4))\n",
    "i=i+1\n",
    "print( 'No.',m,'---',i)\n",
    "itg"
   ]
  },
  {
   "cell_type": "code",
   "execution_count": 82,
   "metadata": {},
   "outputs": [
    {
     "data": {
      "image/png": "[encoded data removed]",
      "text/latex": [
       "$$- \\log{\\left (3 \\right )} + \\log{\\left (5 \\right )}$$"
      ],
      "text/plain": [
       "-log(3) + log(5)"
      ]
     },
     "execution_count": 82,
     "metadata": {},
     "output_type": "execute_result"
    }
   ],
   "source": [
    "simplify(itg.doit())"
   ]
  },
  {
   "cell_type": "code",
   "execution_count": 91,
   "metadata": {},
   "outputs": [
    {
     "name": "stdout",
     "output_type": "stream",
     "text": [
      "No. 3//5 --- 8\n"
     ]
    },
    {
     "data": {
      "image/png": "[encoded data removed]",
      "text/latex": [
       "$$\\int_{2}^{3} \\sqrt{x}\\, dx$$"
      ],
      "text/plain": [
       "3      \n",
       "⌠      \n",
       "⎮ √x dx\n",
       "⌡      \n",
       "2      "
      ]
     },
     "execution_count": 91,
     "metadata": {},
     "output_type": "execute_result"
    }
   ],
   "source": [
    "expr = sqrt(x)\n",
    "itg = Integral(expr,(x,2,3))\n",
    "i=i+1\n",
    "print( 'No.',m,'---',i)\n",
    "itg"
   ]
  },
  {
   "cell_type": "code",
   "execution_count": 84,
   "metadata": {},
   "outputs": [
    {
     "data": {
      "image/png": "[encoded data removed]",
      "text/latex": [
       "$$- \\frac{4 \\sqrt{2}}{3} + 2 \\sqrt{3}$$"
      ],
      "text/plain": [
       "  4⋅√2       \n",
       "- ──── + 2⋅√3\n",
       "   3         "
      ]
     },
     "execution_count": 84,
     "metadata": {},
     "output_type": "execute_result"
    }
   ],
   "source": [
    "simplify(itg.doit())"
   ]
  },
  {
   "cell_type": "code",
   "execution_count": 85,
   "metadata": {},
   "outputs": [
    {
     "name": "stdout",
     "output_type": "stream",
     "text": [
      "No. 3//5 --- 7\n"
     ]
    },
    {
     "data": {
      "image/png": "[encoded data removed]",
      "text/latex": [
       "$$\\int_{2}^{3} e^{2 x}\\, dx$$"
      ],
      "text/plain": [
       "3        \n",
       "⌠        \n",
       "⎮  2⋅x   \n",
       "⎮ ℯ    dx\n",
       "⌡        \n",
       "2        "
      ]
     },
     "execution_count": 85,
     "metadata": {},
     "output_type": "execute_result"
    }
   ],
   "source": [
    "expr = exp(2*x)\n",
    "itg = Integral(expr,(x,2,3))\n",
    "i=i+1\n",
    "print( 'No.',m,'---',i)\n",
    "itg"
   ]
  },
  {
   "cell_type": "code",
   "execution_count": 86,
   "metadata": {},
   "outputs": [
    {
     "data": {
      "image/png": "[encoded data removed]",
      "text/latex": [
       "$$\\frac{e^{4}}{2} \\left(-1 + e^{2}\\right)$$"
      ],
      "text/plain": [
       "⎛      2⎞  4\n",
       "⎝-1 + ℯ ⎠⋅ℯ \n",
       "────────────\n",
       "     2      "
      ]
     },
     "execution_count": 86,
     "metadata": {},
     "output_type": "execute_result"
    }
   ],
   "source": [
    "simplify(itg.doit())"
   ]
  },
  {
   "cell_type": "code",
   "execution_count": 7,
   "metadata": {},
   "outputs": [
    {
     "name": "stdout",
     "output_type": "stream",
     "text": [
      "No. 3//5 --- 4\n"
     ]
    },
    {
     "data": {
      "image/png": "[encoded data removed]",
      "text/latex": [
       "$$\\int_{0}^{1} \\sqrt{\\frac{0.444444444444444}{x^{0.666666666666667}} + 1}\\, dx$$"
      ],
      "text/plain": [
       "1                                                  \n",
       "⌠                                                  \n",
       "⎮    ___________________________________________   \n",
       "⎮   ╱                    -0.666666666666667        \n",
       "⎮ ╲╱  0.444444444444444⋅x                   + 1  dx\n",
       "⌡                                                  \n",
       "0                                                  "
      ]
     },
     "execution_count": 7,
     "metadata": {},
     "output_type": "execute_result"
    }
   ],
   "source": [
    "expr =sqrt(1+(4/9)*x**(-2/3))\n",
    "itg = Integral(expr,(x,0,1))\n",
    "i=i+1\n",
    "print( 'No.',m,'---',i)\n",
    "itg"
   ]
  },
  {
   "cell_type": "code",
   "execution_count": 8,
   "metadata": {},
   "outputs": [
    {
     "data": {
      "image/png": "[encoded data removed]",
      "text/latex": [
       "$$\\frac{2.5518193092441}{\\sqrt{\\pi}}$$"
      ],
      "text/plain": [
       "2.5518193092441\n",
       "───────────────\n",
       "       √π      "
      ]
     },
     "execution_count": 8,
     "metadata": {},
     "output_type": "execute_result"
    }
   ],
   "source": [
    "itg.doit()"
   ]
  },
  {
   "cell_type": "code",
   "execution_count": null,
   "metadata": {},
   "outputs": [],
   "source": []
  }
 ],
 "metadata": {
  "kernelspec": {
   "display_name": "Python 3",
   "language": "python",
   "name": "python3"
  },
  "language_info": {
   "codemirror_mode": {
    "name": "ipython",
    "version": 3
   },
   "file_extension": ".py",
   "mimetype": "text/x-python",
   "name": "python",
   "nbconvert_exporter": "python",
   "pygments_lexer": "ipython3",
   "version": "3.6.4"
  }
 },
 "nbformat": 4,
 "nbformat_minor": 2
}
