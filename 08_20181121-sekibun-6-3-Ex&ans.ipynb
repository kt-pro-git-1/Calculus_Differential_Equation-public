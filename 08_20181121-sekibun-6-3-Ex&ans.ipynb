{
 "cells": [
  {
   "cell_type": "markdown",
   "metadata": {},
   "source": [
    "# 微積分の計算について　　　N0.4　定積分の内容－3　＜定積分の部分積分＞"
   ]
  },
  {
   "cell_type": "markdown",
   "metadata": {},
   "source": [
    "###  学籍番号[＿＿＿＿＿＿＿＿＿]クラス[＿＿＿＿＿]　クラス番号[＿＿＿＿＿] 名前[＿＿＿＿＿＿＿＿＿＿＿＿＿＿＿]"
   ]
  },
  {
   "cell_type": "markdown",
   "metadata": {},
   "source": [
    "##### 部分積分"
   ]
  },
  {
   "cell_type": "markdown",
   "metadata": {},
   "source": [
    "###### 部分積分の公式　　$ [a,b]$で $f(x)$および $g'(x)$が連続で、$f(x)$の原始関数を$F(x)$とする\n",
    "\n",
    "　$$   \\int_{a}^{b} f(x)g(x)dx =  \\left[ F(x)g(x) \\right]_{a}^{b}- \\int_{a}^{b} F(x)g'(x)dx $$"
   ]
  },
  {
   "cell_type": "markdown",
   "metadata": {},
   "source": [
    "###### ワリスの公式（Wallis）\n",
    "$$  \\int_{0}^{\\frac{\\pi}{2}}\\sin^n x dx = \\int_{0}^{\\frac{\\pi}{2}}\\cos^n x dx  $$\n",
    "    n:奇数の時\n",
    "    $$＝(\\frac{n-1}{n})(\\frac{n-3}{n-2})・・・(\\frac{2}{3})(1) $$\n",
    "    n:偶数の時\n",
    "    $$＝(\\frac{n-1}{n})(\\frac{n-3}{n-2})・・・(\\frac{1}{2})(\\frac{\\pi}{2}) $$"
   ]
  },
  {
   "cell_type": "code",
   "execution_count": 27,
   "metadata": {},
   "outputs": [],
   "source": [
    "from sympy import *\n",
    "x, n , y, a = symbols('x n y a')\n",
    "init_printing()\n",
    "m ='4//3'\n",
    "i =0"
   ]
  },
  {
   "cell_type": "code",
   "execution_count": 28,
   "metadata": {},
   "outputs": [
    {
     "name": "stdout",
     "output_type": "stream",
     "text": [
      "No. 4//3 --- 1\n"
     ]
    },
    {
     "data": {
      "image/png": "[encoded data removed]",
      "text/latex": [
       "$$\\int_{0}^{\\frac{\\pi}{2}} x \\cos{\\left (x \\right )}\\, dx$$"
      ],
      "text/plain": [
       "π            \n",
       "─            \n",
       "2            \n",
       "⌠            \n",
       "⎮ x⋅cos(x) dx\n",
       "⌡            \n",
       "0            "
      ]
     },
     "execution_count": 28,
     "metadata": {},
     "output_type": "execute_result"
    }
   ],
   "source": [
    "expr = x*cos(x)\n",
    "itg = Integral(expr,(x,0,pi/2))\n",
    "i=i+1\n",
    "print( 'No.',m,'---',i)\n",
    "itg"
   ]
  },
  {
   "cell_type": "code",
   "execution_count": 29,
   "metadata": {},
   "outputs": [
    {
     "data": {
      "image/png": "[encoded data removed]",
      "text/latex": [
       "$$-1 + \\frac{\\pi}{2}$$"
      ],
      "text/plain": [
       "     π\n",
       "-1 + ─\n",
       "     2"
      ]
     },
     "execution_count": 29,
     "metadata": {},
     "output_type": "execute_result"
    }
   ],
   "source": [
    "simplify(itg.doit())"
   ]
  },
  {
   "cell_type": "code",
   "execution_count": 30,
   "metadata": {},
   "outputs": [
    {
     "name": "stdout",
     "output_type": "stream",
     "text": [
      "No. 4//3 --- 2\n"
     ]
    },
    {
     "data": {
      "image/png": "[encoded data removed]",
      "text/latex": [
       "$$\\int_{0}^{1} x e^{x}\\, dx$$"
      ],
      "text/plain": [
       "1        \n",
       "⌠        \n",
       "⎮    x   \n",
       "⎮ x⋅ℯ  dx\n",
       "⌡        \n",
       "0        "
      ]
     },
     "execution_count": 30,
     "metadata": {},
     "output_type": "execute_result"
    }
   ],
   "source": [
    "expr = x*exp(x)\n",
    "itg = Integral(expr,(x,0,1))\n",
    "i=i+1\n",
    "print( 'No.',m,'---',i)\n",
    "itg"
   ]
  },
  {
   "cell_type": "code",
   "execution_count": 31,
   "metadata": {},
   "outputs": [
    {
     "data": {
      "image/png": "[encoded data removed]",
      "text/latex": [
       "$$1$$"
      ],
      "text/plain": [
       "1"
      ]
     },
     "execution_count": 31,
     "metadata": {},
     "output_type": "execute_result"
    }
   ],
   "source": [
    "simplify(itg.doit())"
   ]
  },
  {
   "cell_type": "code",
   "execution_count": 32,
   "metadata": {},
   "outputs": [
    {
     "name": "stdout",
     "output_type": "stream",
     "text": [
      "No. 4//3 --- 3\n"
     ]
    },
    {
     "data": {
      "image/png": "[encoded data removed]",
      "text/latex": [
       "$$\\int_{0}^{1} x^{2} e^{x}\\, dx$$"
      ],
      "text/plain": [
       "1         \n",
       "⌠         \n",
       "⎮  2  x   \n",
       "⎮ x ⋅ℯ  dx\n",
       "⌡         \n",
       "0         "
      ]
     },
     "execution_count": 32,
     "metadata": {},
     "output_type": "execute_result"
    }
   ],
   "source": [
    "expr = x**2*exp(x)\n",
    "itg = Integral(expr,(x,0,1))\n",
    "i=i+1\n",
    "print( 'No.',m,'---',i)\n",
    "itg"
   ]
  },
  {
   "cell_type": "code",
   "execution_count": 33,
   "metadata": {},
   "outputs": [
    {
     "data": {
      "image/png": "[encoded data removed]",
      "text/latex": [
       "$$-2 + e$$"
      ],
      "text/plain": [
       "-2 + ℯ"
      ]
     },
     "execution_count": 33,
     "metadata": {},
     "output_type": "execute_result"
    }
   ],
   "source": [
    "simplify(itg.doit())"
   ]
  },
  {
   "cell_type": "code",
   "execution_count": 34,
   "metadata": {},
   "outputs": [
    {
     "name": "stdout",
     "output_type": "stream",
     "text": [
      "No. 4//3 --- 4\n"
     ]
    },
    {
     "data": {
      "image/png": "[encoded data removed]",
      "text/latex": [
       "$$\\int_{0}^{\\frac{\\pi}{2}} e^{x} \\cos{\\left (x \\right )}\\, dx$$"
      ],
      "text/plain": [
       "π             \n",
       "─             \n",
       "2             \n",
       "⌠             \n",
       "⎮  x          \n",
       "⎮ ℯ ⋅cos(x) dx\n",
       "⌡             \n",
       "0             "
      ]
     },
     "execution_count": 34,
     "metadata": {},
     "output_type": "execute_result"
    }
   ],
   "source": [
    "expr = exp(x)*cos(x)\n",
    "itg = Integral(expr,(x,0,pi/2))\n",
    "i=i+1\n",
    "print( 'No.',m,'---',i)\n",
    "itg"
   ]
  },
  {
   "cell_type": "code",
   "execution_count": 35,
   "metadata": {},
   "outputs": [
    {
     "data": {
      "image/png": "[encoded data removed]",
      "text/latex": [
       "$$- \\frac{1}{2} + \\frac{e^{\\frac{\\pi}{2}}}{2}$$"
      ],
      "text/plain": [
       "       π\n",
       "       ─\n",
       "       2\n",
       "  1   ℯ \n",
       "- ─ + ──\n",
       "  2   2 "
      ]
     },
     "execution_count": 35,
     "metadata": {},
     "output_type": "execute_result"
    }
   ],
   "source": [
    "simplify(itg.doit())"
   ]
  },
  {
   "cell_type": "code",
   "execution_count": 36,
   "metadata": {},
   "outputs": [
    {
     "name": "stdout",
     "output_type": "stream",
     "text": [
      "No. 4//3 --- 5\n"
     ]
    },
    {
     "data": {
      "image/png": "[encoded data removed]",
      "text/latex": [
       "$$\\int_{1}^{e} \\log^{2}{\\left (x \\right )}\\, dx$$"
      ],
      "text/plain": [
       "ℯ           \n",
       "⌠           \n",
       "⎮    2      \n",
       "⎮ log (x) dx\n",
       "⌡           \n",
       "1           "
      ]
     },
     "execution_count": 36,
     "metadata": {},
     "output_type": "execute_result"
    }
   ],
   "source": [
    "expr =(log(x))**2\n",
    "itg = Integral(expr,(x,1,exp(1)))\n",
    "i=i+1\n",
    "print( 'No.',m,'---',i)\n",
    "itg"
   ]
  },
  {
   "cell_type": "code",
   "execution_count": 37,
   "metadata": {},
   "outputs": [
    {
     "data": {
      "image/png": "[encoded data removed]",
      "text/latex": [
       "$$-2 + e$$"
      ],
      "text/plain": [
       "-2 + ℯ"
      ]
     },
     "execution_count": 37,
     "metadata": {},
     "output_type": "execute_result"
    }
   ],
   "source": [
    "simplify(itg.doit())"
   ]
  },
  {
   "cell_type": "code",
   "execution_count": 38,
   "metadata": {},
   "outputs": [
    {
     "name": "stdout",
     "output_type": "stream",
     "text": [
      "No. 4//3 --- 6\n"
     ]
    },
    {
     "data": {
      "image/png": "[encoded data removed]",
      "text/latex": [
       "$$\\int_{0}^{\\frac{\\pi}{2}} \\sin^{3}{\\left (x \\right )}\\, dx$$"
      ],
      "text/plain": [
       "π           \n",
       "─           \n",
       "2           \n",
       "⌠           \n",
       "⎮    3      \n",
       "⎮ sin (x) dx\n",
       "⌡           \n",
       "0           "
      ]
     },
     "execution_count": 38,
     "metadata": {},
     "output_type": "execute_result"
    }
   ],
   "source": [
    "expr = sin(x)**3\n",
    "itg = Integral(expr,(x,0,pi/2))\n",
    "i=i+1\n",
    "print( 'No.',m,'---',i)\n",
    "itg"
   ]
  },
  {
   "cell_type": "code",
   "execution_count": 39,
   "metadata": {},
   "outputs": [
    {
     "data": {
      "image/png": "[encoded data removed]",
      "text/latex": [
       "$$\\frac{2}{3}$$"
      ],
      "text/plain": [
       "2/3"
      ]
     },
     "execution_count": 39,
     "metadata": {},
     "output_type": "execute_result"
    }
   ],
   "source": [
    "simplify(itg.doit())"
   ]
  },
  {
   "cell_type": "code",
   "execution_count": 40,
   "metadata": {},
   "outputs": [
    {
     "name": "stdout",
     "output_type": "stream",
     "text": [
      "No. 4//3 --- 7\n"
     ]
    },
    {
     "data": {
      "image/png": "[encoded data removed]",
      "text/latex": [
       "$$\\int_{0}^{\\frac{\\pi}{2}} \\cos^{4}{\\left (x \\right )}\\, dx$$"
      ],
      "text/plain": [
       "π           \n",
       "─           \n",
       "2           \n",
       "⌠           \n",
       "⎮    4      \n",
       "⎮ cos (x) dx\n",
       "⌡           \n",
       "0           "
      ]
     },
     "execution_count": 40,
     "metadata": {},
     "output_type": "execute_result"
    }
   ],
   "source": [
    "expr = cos(x)**4\n",
    "itg = Integral(expr,(x,0,pi/2))\n",
    "i=i+1\n",
    "print( 'No.',m,'---',i)\n",
    "itg"
   ]
  },
  {
   "cell_type": "code",
   "execution_count": 41,
   "metadata": {},
   "outputs": [
    {
     "data": {
      "image/png": "[encoded data removed]",
      "text/latex": [
       "$$\\frac{3 \\pi}{16}$$"
      ],
      "text/plain": [
       "3⋅π\n",
       "───\n",
       " 16"
      ]
     },
     "execution_count": 41,
     "metadata": {},
     "output_type": "execute_result"
    }
   ],
   "source": [
    "simplify(itg.doit())"
   ]
  },
  {
   "cell_type": "code",
   "execution_count": 42,
   "metadata": {},
   "outputs": [
    {
     "name": "stdout",
     "output_type": "stream",
     "text": [
      "No. 4//3 --- 8\n"
     ]
    },
    {
     "data": {
      "image/png": "[encoded data removed]",
      "text/latex": [
       "$$\\int_{0}^{1} \\left(x - 1\\right)^{2} e^{- x}\\, dx$$"
      ],
      "text/plain": [
       "1                \n",
       "⌠                \n",
       "⎮        2  -x   \n",
       "⎮ (x - 1) ⋅ℯ   dx\n",
       "⌡                \n",
       "0                "
      ]
     },
     "execution_count": 42,
     "metadata": {},
     "output_type": "execute_result"
    }
   ],
   "source": [
    "expr = (x-1)**2*exp(-x)\n",
    "itg = Integral(expr,(x,0,1))\n",
    "i=i+1\n",
    "print( 'No.',m,'---',i)\n",
    "itg"
   ]
  },
  {
   "cell_type": "code",
   "execution_count": 43,
   "metadata": {},
   "outputs": [
    {
     "data": {
      "image/png": "[encoded data removed]",
      "text/latex": [
       "$$\\frac{1}{e} \\left(-2 + e\\right)$$"
      ],
      "text/plain": [
       "          -1\n",
       "(-2 + ℯ)⋅ℯ  "
      ]
     },
     "execution_count": 43,
     "metadata": {},
     "output_type": "execute_result"
    }
   ],
   "source": [
    "simplify(itg.doit())"
   ]
  }
 ],
 "metadata": {
  "kernelspec": {
   "display_name": "Python 3",
   "language": "python",
   "name": "python3"
  },
  "language_info": {
   "codemirror_mode": {
    "name": "ipython",
    "version": 3
   },
   "file_extension": ".py",
   "mimetype": "text/x-python",
   "name": "python",
   "nbconvert_exporter": "python",
   "pygments_lexer": "ipython3",
   "version": "3.6.4"
  }
 },
 "nbformat": 4,
 "nbformat_minor": 2
}
