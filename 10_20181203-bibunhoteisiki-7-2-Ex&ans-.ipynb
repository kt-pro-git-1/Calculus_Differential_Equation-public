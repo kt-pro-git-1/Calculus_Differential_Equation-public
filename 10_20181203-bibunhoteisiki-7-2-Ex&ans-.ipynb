{
 "cells": [
  {
   "cell_type": "markdown",
   "metadata": {},
   "source": [
    "# 微分方程式の計算について　　　N0.5　－1　定数変化法"
   ]
  },
  {
   "cell_type": "markdown",
   "metadata": {},
   "source": [
    "###  学籍番号[＿＿＿＿＿＿＿＿＿]クラス[＿＿＿＿＿]　クラス番号[＿＿＿＿＿] 名前[＿＿＿＿＿＿＿＿＿＿＿＿＿＿＿]"
   ]
  },
  {
   "cell_type": "markdown",
   "metadata": {},
   "source": [
    "###########   1階常微分方程式 定数変化法 (同次形の方程式　としての解を求め,次に定数Cをu(x)に代えて（1）式に代入してu(x)を求めていく"
   ]
  },
  {
   "cell_type": "markdown",
   "metadata": {},
   "source": [
    "$$ \\frac{dy}{dx}+P(x)y = q(x)------------（１）$$"
   ]
  },
  {
   "cell_type": "markdown",
   "metadata": {},
   "source": [
    "はじめに同次形の方程式　としての解を求める"
   ]
  },
  {
   "cell_type": "markdown",
   "metadata": {},
   "source": [
    "$$ \\frac{dy}{dx}+f(x)y = 0 $$"
   ]
  },
  {
   "cell_type": "markdown",
   "metadata": {},
   "source": [
    "$$ y{\\left (x \\right )} = C_{1} e^{- \\int f{\\left (x \\right )}\\, dx}----------(2)$$"
   ]
  },
  {
   "cell_type": "markdown",
   "metadata": {},
   "source": [
    "C1をｘの関数としてu(x)と置き換えてみる\n",
    "$$ y = u(x)e^{- \\int f(x)dx} $$\n",
    "このｙを(1)式の非同次の式に代入して、\n",
    "u(x)を求める。\n",
    "(2)のC1にu(u)を代入すして解とする"
   ]
  },
  {
   "cell_type": "code",
   "execution_count": null,
   "metadata": {},
   "outputs": [],
   "source": [
    "from sympy import *\n",
    "x, n , a ,C1, C2 ,C3 = symbols('x n a C1 C2 C3')\n",
    "f,g,y = symbols('f g y' ,cls=Function)\n",
    "init_printing()\n",
    "m ='5///1'\n",
    "i =0"
   ]
  },
  {
   "cell_type": "code",
   "execution_count": 12,
   "metadata": {},
   "outputs": [
    {
     "name": "stdout",
     "output_type": "stream",
     "text": [
      "No. 5///1 --- 1\n"
     ]
    },
    {
     "data": {
      "image/png": "[encoded data removed]",
      "text/latex": [
       "$$\\frac{d}{d x} y{\\left (x \\right )} - \\frac{1}{x} y{\\left (x \\right )} = x$$"
      ],
      "text/plain": [
       "d          y(x)    \n",
       "──(y(x)) - ──── = x\n",
       "dx          x      "
      ]
     },
     "execution_count": 12,
     "metadata": {},
     "output_type": "execute_result"
    }
   ],
   "source": [
    "diffeq = Eq(y(x).diff(x, 1)- y(x)/x ,x)\n",
    "i =0\n",
    "i=i+1\n",
    "print( 'No.',m,'---',i)\n",
    "diffeq"
   ]
  },
  {
   "cell_type": "code",
   "execution_count": null,
   "metadata": {},
   "outputs": [],
   "source": []
  },
  {
   "cell_type": "code",
   "execution_count": 13,
   "metadata": {},
   "outputs": [
    {
     "data": {
      "image/png": "[encoded data removed]",
      "text/latex": [
       "$$y{\\left (x \\right )} = x \\left(C_{1} + x\\right)$$"
      ],
      "text/plain": [
       "y(x) = x⋅(C₁ + x)"
      ]
     },
     "execution_count": 13,
     "metadata": {},
     "output_type": "execute_result"
    }
   ],
   "source": [
    "dsolve(diffeq, y(x))"
   ]
  },
  {
   "cell_type": "code",
   "execution_count": 15,
   "metadata": {},
   "outputs": [
    {
     "name": "stdout",
     "output_type": "stream",
     "text": [
      "No. 5///1 --- 2\n"
     ]
    },
    {
     "data": {
      "image/png": "[encoded data removed]",
      "text/latex": [
       "$$x \\frac{d}{d x} y{\\left (x \\right )} + y{\\left (x \\right )} = x e^{x}$$"
      ],
      "text/plain": [
       "  d                    x\n",
       "x⋅──(y(x)) + y(x) = x⋅ℯ \n",
       "  dx                    "
      ]
     },
     "execution_count": 15,
     "metadata": {},
     "output_type": "execute_result"
    }
   ],
   "source": [
    "diffeq = Eq(x*y(x).diff(x, 1)+y(x) , x*exp(x))\n",
    "i=i+1\n",
    "print( 'No.',m,'---',i)\n",
    "diffeq"
   ]
  },
  {
   "cell_type": "code",
   "execution_count": 16,
   "metadata": {},
   "outputs": [
    {
     "data": {
      "image/png": "[encoded data removed]",
      "text/latex": [
       "$$y{\\left (x \\right )} = \\frac{C_{1}}{x} + e^{x} - \\frac{e^{x}}{x}$$"
      ],
      "text/plain": [
       "                  x\n",
       "       C₁    x   ℯ \n",
       "y(x) = ── + ℯ  - ──\n",
       "       x         x "
      ]
     },
     "execution_count": 16,
     "metadata": {},
     "output_type": "execute_result"
    }
   ],
   "source": [
    "dsolve(diffeq, y(x))"
   ]
  },
  {
   "cell_type": "code",
   "execution_count": 23,
   "metadata": {},
   "outputs": [
    {
     "name": "stdout",
     "output_type": "stream",
     "text": [
      "No. 5///1 --- 3\n"
     ]
    },
    {
     "data": {
      "image/png": "[encoded data removed]",
      "text/latex": [
       "$$- y{\\left (x \\right )} \\sin{\\left (x \\right )} + \\cos{\\left (x \\right )} \\frac{d}{d x} y{\\left (x \\right )} = 1$$"
      ],
      "text/plain": [
       "                      d           \n",
       "-y(x)⋅sin(x) + cos(x)⋅──(y(x)) = 1\n",
       "                      dx          "
      ]
     },
     "execution_count": 23,
     "metadata": {},
     "output_type": "execute_result"
    }
   ],
   "source": [
    "diffeq = Eq(cos(x)* y(x).diff(x,1) - y(x)*sin(x),1)\n",
    "i=i+1\n",
    "print( 'No.',m,'---',i)\n",
    "diffeq"
   ]
  },
  {
   "cell_type": "code",
   "execution_count": 24,
   "metadata": {},
   "outputs": [
    {
     "data": {
      "image/png": "[encoded data removed]",
      "text/latex": [
       "$$y{\\left (x \\right )} = \\frac{C_{1} + x}{\\cos{\\left (x \\right )}}$$"
      ],
      "text/plain": [
       "       C₁ + x\n",
       "y(x) = ──────\n",
       "       cos(x)"
      ]
     },
     "execution_count": 24,
     "metadata": {},
     "output_type": "execute_result"
    }
   ],
   "source": [
    "dsolve(diffeq, y(x))"
   ]
  },
  {
   "cell_type": "code",
   "execution_count": 25,
   "metadata": {},
   "outputs": [
    {
     "name": "stdout",
     "output_type": "stream",
     "text": [
      "No. 5///1 --- 4\n"
     ]
    },
    {
     "data": {
      "image/png": "[encoded data removed]",
      "text/latex": [
       "$$2 x y{\\left (x \\right )} + \\frac{d}{d x} y{\\left (x \\right )} = \\left(2 x + 1\\right) e^{x}$$"
      ],
      "text/plain": [
       "           d                     x\n",
       "2⋅x⋅y(x) + ──(y(x)) = (2⋅x + 1)⋅ℯ \n",
       "           dx                     "
      ]
     },
     "execution_count": 25,
     "metadata": {},
     "output_type": "execute_result"
    }
   ],
   "source": [
    "diffeq = Eq(y(x).diff(x, 1)+ 2*x*y(x),(2*x +1)*exp(x))\n",
    "i=i+1\n",
    "print( 'No.',m,'---',i)\n",
    "diffeq"
   ]
  },
  {
   "cell_type": "code",
   "execution_count": 26,
   "metadata": {},
   "outputs": [
    {
     "data": {
      "image/png": "[encoded data removed]",
      "text/latex": [
       "$$y{\\left (x \\right )} = C_{1} e^{- x^{2}} + e^{x}$$"
      ],
      "text/plain": [
       "             2     \n",
       "           -x     x\n",
       "y(x) = C₁⋅ℯ    + ℯ "
      ]
     },
     "execution_count": 26,
     "metadata": {},
     "output_type": "execute_result"
    }
   ],
   "source": [
    "simplify(dsolve(diffeq, y(x)))"
   ]
  },
  {
   "cell_type": "code",
   "execution_count": 28,
   "metadata": {},
   "outputs": [
    {
     "name": "stdout",
     "output_type": "stream",
     "text": [
      "No. 5///1 --- 5\n"
     ]
    },
    {
     "data": {
      "image/png": "[encoded data removed]",
      "text/latex": [
       "$$\\frac{d}{d x} y{\\left (x \\right )} + \\frac{2}{x} y{\\left (x \\right )} = x^{2}$$"
      ],
      "text/plain": [
       "d          2⋅y(x)    2\n",
       "──(y(x)) + ────── = x \n",
       "dx           x        "
      ]
     },
     "execution_count": 28,
     "metadata": {},
     "output_type": "execute_result"
    }
   ],
   "source": [
    "diffeq = Eq(y(x).diff(x, 1)+(2/x)*y(x),x**2)\n",
    "i=i+1\n",
    "print( 'No.',m,'---',i)\n",
    "diffeq"
   ]
  },
  {
   "cell_type": "code",
   "execution_count": 29,
   "metadata": {},
   "outputs": [
    {
     "data": {
      "image/png": "[encoded data removed]",
      "text/latex": [
       "$$y{\\left (x \\right )} = \\frac{1}{x^{2}} \\left(C_{1} + \\frac{x^{5}}{5}\\right)$$"
      ],
      "text/plain": [
       "             5\n",
       "            x \n",
       "       C₁ + ──\n",
       "            5 \n",
       "y(x) = ───────\n",
       "           2  \n",
       "          x   "
      ]
     },
     "execution_count": 29,
     "metadata": {},
     "output_type": "execute_result"
    }
   ],
   "source": [
    "simplify(dsolve(diffeq, y(x)))"
   ]
  },
  {
   "cell_type": "code",
   "execution_count": 30,
   "metadata": {},
   "outputs": [
    {
     "name": "stdout",
     "output_type": "stream",
     "text": [
      "No. 5///1 --- 6\n"
     ]
    },
    {
     "data": {
      "image/png": "[encoded data removed]",
      "text/latex": [
       "$$y{\\left (x \\right )} + \\frac{d}{d x} y{\\left (x \\right )} = x$$"
      ],
      "text/plain": [
       "       d           \n",
       "y(x) + ──(y(x)) = x\n",
       "       dx          "
      ]
     },
     "execution_count": 30,
     "metadata": {},
     "output_type": "execute_result"
    }
   ],
   "source": [
    "diffeq = Eq(y(x).diff(x, 1)+y(x) ,x)\n",
    "i=i+1\n",
    "print( 'No.',m,'---',i)\n",
    "diffeq"
   ]
  },
  {
   "cell_type": "code",
   "execution_count": 34,
   "metadata": {},
   "outputs": [
    {
     "data": {
      "image/png": "[encoded data removed]",
      "text/latex": [
       "$$y{\\left (x \\right )} = \\left(C_{1} + \\left(x - 1\\right) e^{x}\\right) e^{- x}$$"
      ],
      "text/plain": [
       "       ⎛              x⎞  -x\n",
       "y(x) = ⎝C₁ + (x - 1)⋅ℯ ⎠⋅ℯ  "
      ]
     },
     "execution_count": 34,
     "metadata": {},
     "output_type": "execute_result"
    }
   ],
   "source": [
    "reseq = dsolve(diffeq, y(x))\n",
    "reseq"
   ]
  },
  {
   "cell_type": "code",
   "execution_count": 35,
   "metadata": {},
   "outputs": [
    {
     "data": {
      "image/png": "[encoded data removed]",
      "text/latex": [
       "$$\\left [ 1\\right ]$$"
      ],
      "text/plain": [
       "[1]"
      ]
     },
     "execution_count": 35,
     "metadata": {},
     "output_type": "execute_result"
    }
   ],
   "source": [
    "f0 = Eq(reseq.rhs.subs(x,0),0)\n",
    "c = solve(f0)\n",
    "c"
   ]
  },
  {
   "cell_type": "code",
   "execution_count": 36,
   "metadata": {},
   "outputs": [
    {
     "data": {
      "image/png": "[encoded data removed]",
      "text/latex": [
       "$$y{\\left (x \\right )} = \\left(\\left(x - 1\\right) e^{x} + 1\\right) e^{- x}$$"
      ],
      "text/plain": [
       "       ⎛         x    ⎞  -x\n",
       "y(x) = ⎝(x - 1)⋅ℯ  + 1⎠⋅ℯ  "
      ]
     },
     "execution_count": 36,
     "metadata": {},
     "output_type": "execute_result"
    }
   ],
   "source": [
    "reseq01 = reseq.subs(C1, c[0])\n",
    "reseq01"
   ]
  },
  {
   "cell_type": "code",
   "execution_count": 41,
   "metadata": {},
   "outputs": [
    {
     "name": "stdout",
     "output_type": "stream",
     "text": [
      "No. 5///1 --- 8\n"
     ]
    },
    {
     "data": {
      "image/png": "[encoded data removed]",
      "text/latex": [
       "$$- y{\\left (x \\right )} \\sin{\\left (x \\right )} + \\cos{\\left (x \\right )} \\frac{d}{d x} y{\\left (x \\right )} = 1$$"
      ],
      "text/plain": [
       "                      d           \n",
       "-y(x)⋅sin(x) + cos(x)⋅──(y(x)) = 1\n",
       "                      dx          "
      ]
     },
     "execution_count": 41,
     "metadata": {},
     "output_type": "execute_result"
    }
   ],
   "source": [
    "diffeq = Eq(cos(x)*y(x).diff(x, 1)-sin(x)*y(x) ,1)\n",
    "i=i+1\n",
    "print( 'No.',m,'---',i)\n",
    "diffeq"
   ]
  },
  {
   "cell_type": "code",
   "execution_count": 42,
   "metadata": {},
   "outputs": [
    {
     "data": {
      "image/png": "[encoded data removed]",
      "text/latex": [
       "$$y{\\left (x \\right )} = \\frac{C_{1} + x}{\\cos{\\left (x \\right )}}$$"
      ],
      "text/plain": [
       "       C₁ + x\n",
       "y(x) = ──────\n",
       "       cos(x)"
      ]
     },
     "execution_count": 42,
     "metadata": {},
     "output_type": "execute_result"
    }
   ],
   "source": [
    "reseq = dsolve(diffeq, y(x))\n",
    "reseq"
   ]
  },
  {
   "cell_type": "code",
   "execution_count": 44,
   "metadata": {},
   "outputs": [
    {
     "data": {
      "image/png": "[encoded data removed]",
      "text/latex": [
       "$$\\left [ 4\\right ]$$"
      ],
      "text/plain": [
       "[4]"
      ]
     },
     "execution_count": 44,
     "metadata": {},
     "output_type": "execute_result"
    }
   ],
   "source": [
    "f0 = Eq(reseq.rhs.subs(x,0),4)\n",
    "c = solve(f0)\n",
    "c"
   ]
  },
  {
   "cell_type": "code",
   "execution_count": 45,
   "metadata": {},
   "outputs": [
    {
     "data": {
      "image/png": "[encoded data removed]",
      "text/latex": [
       "$$y{\\left (x \\right )} = \\frac{x + 4}{\\cos{\\left (x \\right )}}$$"
      ],
      "text/plain": [
       "       x + 4 \n",
       "y(x) = ──────\n",
       "       cos(x)"
      ]
     },
     "execution_count": 45,
     "metadata": {},
     "output_type": "execute_result"
    }
   ],
   "source": [
    "reseq01 = reseq.subs(C1, c[0])\n",
    "reseq01"
   ]
  },
  {
   "cell_type": "code",
   "execution_count": null,
   "metadata": {},
   "outputs": [],
   "source": []
  }
 ],
 "metadata": {
  "kernelspec": {
   "display_name": "Python 3",
   "language": "python",
   "name": "python3"
  },
  "language_info": {
   "codemirror_mode": {
    "name": "ipython",
    "version": 3
   },
   "file_extension": ".py",
   "mimetype": "text/x-python",
   "name": "python",
   "nbconvert_exporter": "python",
   "pygments_lexer": "ipython3",
   "version": "3.6.4"
  }
 },
 "nbformat": 4,
 "nbformat_minor": 2
}
