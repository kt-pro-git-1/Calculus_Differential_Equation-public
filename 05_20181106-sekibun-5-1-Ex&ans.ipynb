{
 "cells": [
  {
   "cell_type": "markdown",
   "metadata": {},
   "source": [
    "# 微積分の計算について　　　N0.3　不定積分の内容－５ 部分積分"
   ]
  },
  {
   "cell_type": "markdown",
   "metadata": {},
   "source": [
    "###  学籍番号[＿＿＿＿＿＿＿＿＿]クラス[＿＿＿＿＿]　クラス番号[＿＿＿＿＿] 名前[＿＿＿＿＿＿＿＿＿＿＿＿＿＿＿]"
   ]
  },
  {
   "cell_type": "markdown",
   "metadata": {},
   "source": [
    "##### 積分の手法　（１）部分積分法"
   ]
  },
  {
   "cell_type": "markdown",
   "metadata": {},
   "source": [
    "$$ \\int f'(x)g(x)dx =f(x)g(x)- \\int f(x)g'(x)dx $$"
   ]
  },
  {
   "cell_type": "code",
   "execution_count": 54,
   "metadata": {},
   "outputs": [],
   "source": [
    "from sympy import *\n",
    "x, n , y, a = symbols('x n y a')\n",
    "init_printing()\n",
    "m ='3//5'\n",
    "i =0"
   ]
  },
  {
   "cell_type": "markdown",
   "metadata": {},
   "source": [
    " ### 例題ー2"
   ]
  },
  {
   "cell_type": "code",
   "execution_count": 55,
   "metadata": {},
   "outputs": [
    {
     "name": "stdout",
     "output_type": "stream",
     "text": [
      "No. 3//5 --- 1\n"
     ]
    },
    {
     "data": {
      "image/png": "[encoded data removed]",
      "text/latex": [
       "$$\\int x \\cos{\\left (x \\right )}\\, dx$$"
      ],
      "text/plain": [
       "⌠            \n",
       "⎮ x⋅cos(x) dx\n",
       "⌡            "
      ]
     },
     "execution_count": 55,
     "metadata": {},
     "output_type": "execute_result"
    }
   ],
   "source": [
    "expr = x*cos(x)\n",
    "itg = Integral(expr,x)\n",
    "i=i+1\n",
    "print( 'No.',m,'---',i)\n",
    "itg"
   ]
  },
  {
   "cell_type": "code",
   "execution_count": 56,
   "metadata": {},
   "outputs": [
    {
     "data": {
      "image/png": "[encoded data removed]",
      "text/latex": [
       "$$x \\sin{\\left (x \\right )} + \\cos{\\left (x \\right )}$$"
      ],
      "text/plain": [
       "x⋅sin(x) + cos(x)"
      ]
     },
     "execution_count": 56,
     "metadata": {},
     "output_type": "execute_result"
    }
   ],
   "source": [
    "simplify(itg.doit())"
   ]
  },
  {
   "cell_type": "code",
   "execution_count": 57,
   "metadata": {},
   "outputs": [
    {
     "name": "stdout",
     "output_type": "stream",
     "text": [
      "No. 3//5 --- 2\n"
     ]
    },
    {
     "data": {
      "image/png": "[encoded data removed]",
      "text/latex": [
       "$$\\int \\log{\\left (x \\right )}\\, dx$$"
      ],
      "text/plain": [
       "⌠          \n",
       "⎮ log(x) dx\n",
       "⌡          "
      ]
     },
     "execution_count": 57,
     "metadata": {},
     "output_type": "execute_result"
    }
   ],
   "source": [
    "expr = log(x)\n",
    "itg = Integral(expr,x)\n",
    "i=i+1\n",
    "print( 'No.',m,'---',i)\n",
    "itg"
   ]
  },
  {
   "cell_type": "code",
   "execution_count": 58,
   "metadata": {},
   "outputs": [
    {
     "data": {
      "image/png": "[encoded data removed]",
      "text/latex": [
       "$$x \\left(\\log{\\left (x \\right )} - 1\\right)$$"
      ],
      "text/plain": [
       "x⋅(log(x) - 1)"
      ]
     },
     "execution_count": 58,
     "metadata": {},
     "output_type": "execute_result"
    }
   ],
   "source": [
    "simplify(itg.doit())"
   ]
  },
  {
   "cell_type": "code",
   "execution_count": 59,
   "metadata": {},
   "outputs": [
    {
     "name": "stdout",
     "output_type": "stream",
     "text": [
      "No. 3//5 --- 3\n"
     ]
    },
    {
     "data": {
      "image/png": "[encoded data removed]",
      "text/latex": [
       "$$\\int x^{2} \\sin{\\left (x \\right )}\\, dx$$"
      ],
      "text/plain": [
       "⌠             \n",
       "⎮  2          \n",
       "⎮ x ⋅sin(x) dx\n",
       "⌡             "
      ]
     },
     "execution_count": 59,
     "metadata": {},
     "output_type": "execute_result"
    }
   ],
   "source": [
    "expr = x**2*sin(x)\n",
    "itg = Integral(expr,x)\n",
    "i=i+1\n",
    "print( 'No.',m,'---',i)\n",
    "itg"
   ]
  },
  {
   "cell_type": "code",
   "execution_count": 60,
   "metadata": {},
   "outputs": [
    {
     "data": {
      "image/png": "[encoded data removed]",
      "text/latex": [
       "$$- x^{2} \\cos{\\left (x \\right )} + 2 x \\sin{\\left (x \\right )} + 2 \\cos{\\left (x \\right )}$$"
      ],
      "text/plain": [
       "   2                               \n",
       "- x ⋅cos(x) + 2⋅x⋅sin(x) + 2⋅cos(x)"
      ]
     },
     "execution_count": 60,
     "metadata": {},
     "output_type": "execute_result"
    }
   ],
   "source": [
    "simplify(itg.doit())"
   ]
  },
  {
   "cell_type": "code",
   "execution_count": 61,
   "metadata": {},
   "outputs": [
    {
     "name": "stdout",
     "output_type": "stream",
     "text": [
      "No. 3//5 --- 4\n"
     ]
    },
    {
     "data": {
      "image/png": "[encoded data removed]",
      "text/latex": [
       "$$\\int x^{3} e^{x}\\, dx$$"
      ],
      "text/plain": [
       "⌠         \n",
       "⎮  3  x   \n",
       "⎮ x ⋅ℯ  dx\n",
       "⌡         "
      ]
     },
     "execution_count": 61,
     "metadata": {},
     "output_type": "execute_result"
    }
   ],
   "source": [
    "expr = x**3*exp(x)\n",
    "itg = Integral(expr,x)\n",
    "i=i+1\n",
    "print( 'No.',m,'---',i)\n",
    "itg"
   ]
  },
  {
   "cell_type": "code",
   "execution_count": 62,
   "metadata": {},
   "outputs": [
    {
     "data": {
      "image/png": "[encoded data removed]",
      "text/latex": [
       "$$\\left(x^{3} - 3 x^{2} + 6 x - 6\\right) e^{x}$$"
      ],
      "text/plain": [
       "⎛ 3      2          ⎞  x\n",
       "⎝x  - 3⋅x  + 6⋅x - 6⎠⋅ℯ "
      ]
     },
     "execution_count": 62,
     "metadata": {},
     "output_type": "execute_result"
    }
   ],
   "source": [
    "simplify(itg.doit())"
   ]
  },
  {
   "cell_type": "code",
   "execution_count": 63,
   "metadata": {},
   "outputs": [
    {
     "name": "stdout",
     "output_type": "stream",
     "text": [
      "No. 3//5 --- 5\n"
     ]
    },
    {
     "data": {
      "image/png": "[encoded data removed]",
      "text/latex": [
       "$$\\int \\operatorname{atan}{\\left (x \\right )}\\, dx$$"
      ],
      "text/plain": [
       "⌠           \n",
       "⎮ atan(x) dx\n",
       "⌡           "
      ]
     },
     "execution_count": 63,
     "metadata": {},
     "output_type": "execute_result"
    }
   ],
   "source": [
    "expr = atan(x)\n",
    "itg = Integral(expr,x)\n",
    "i=i+1\n",
    "print( 'No.',m,'---',i)\n",
    "itg"
   ]
  },
  {
   "cell_type": "code",
   "execution_count": 64,
   "metadata": {},
   "outputs": [
    {
     "data": {
      "image/png": "[encoded data removed]",
      "text/latex": [
       "$$x \\operatorname{atan}{\\left (x \\right )} - \\frac{1}{2} \\log{\\left (x^{2} + 1 \\right )}$$"
      ],
      "text/plain": [
       "               ⎛ 2    ⎞\n",
       "            log⎝x  + 1⎠\n",
       "x⋅atan(x) - ───────────\n",
       "                 2     "
      ]
     },
     "execution_count": 64,
     "metadata": {},
     "output_type": "execute_result"
    }
   ],
   "source": [
    "simplify(itg.doit())"
   ]
  },
  {
   "cell_type": "code",
   "execution_count": 65,
   "metadata": {},
   "outputs": [
    {
     "name": "stdout",
     "output_type": "stream",
     "text": [
      "No. 3//5 --- 6\n"
     ]
    },
    {
     "data": {
      "image/png": "[encoded data removed]",
      "text/latex": [
       "$$\\int \\log^{2}{\\left (x \\right )}\\, dx$$"
      ],
      "text/plain": [
       "⌠           \n",
       "⎮    2      \n",
       "⎮ log (x) dx\n",
       "⌡           "
      ]
     },
     "execution_count": 65,
     "metadata": {},
     "output_type": "execute_result"
    }
   ],
   "source": [
    "expr = log(x)**2\n",
    "itg = Integral(expr,x)\n",
    "i=i+1\n",
    "print( 'No.',m,'---',i)\n",
    "itg"
   ]
  },
  {
   "cell_type": "code",
   "execution_count": 66,
   "metadata": {},
   "outputs": [
    {
     "data": {
      "image/png": "[encoded data removed]",
      "text/latex": [
       "$$x \\left(\\log^{2}{\\left (x \\right )} - 2 \\log{\\left (x \\right )} + 2\\right)$$"
      ],
      "text/plain": [
       "  ⎛   2                  ⎞\n",
       "x⋅⎝log (x) - 2⋅log(x) + 2⎠"
      ]
     },
     "execution_count": 66,
     "metadata": {},
     "output_type": "execute_result"
    }
   ],
   "source": [
    "simplify(itg.doit())"
   ]
  },
  {
   "cell_type": "code",
   "execution_count": 67,
   "metadata": {},
   "outputs": [
    {
     "name": "stdout",
     "output_type": "stream",
     "text": [
      "No. 3//5 --- 7\n"
     ]
    },
    {
     "data": {
      "image/png": "[encoded data removed]",
      "text/latex": [
       "$$\\int x^{3} e^{2 x}\\, dx$$"
      ],
      "text/plain": [
       "⌠           \n",
       "⎮  3  2⋅x   \n",
       "⎮ x ⋅ℯ    dx\n",
       "⌡           "
      ]
     },
     "execution_count": 67,
     "metadata": {},
     "output_type": "execute_result"
    }
   ],
   "source": [
    "expr = x**3*exp(2*x)\n",
    "itg = Integral(expr,x)\n",
    "i=i+1\n",
    "print( 'No.',m,'---',i)\n",
    "itg"
   ]
  },
  {
   "cell_type": "code",
   "execution_count": 68,
   "metadata": {},
   "outputs": [
    {
     "data": {
      "image/png": "[encoded data removed]",
      "text/latex": [
       "$$\\frac{e^{2 x}}{8} \\left(4 x^{3} - 6 x^{2} + 6 x - 3\\right)$$"
      ],
      "text/plain": [
       "⎛   3      2          ⎞  2⋅x\n",
       "⎝4⋅x  - 6⋅x  + 6⋅x - 3⎠⋅ℯ   \n",
       "────────────────────────────\n",
       "             8              "
      ]
     },
     "execution_count": 68,
     "metadata": {},
     "output_type": "execute_result"
    }
   ],
   "source": [
    "simplify(itg.doit())"
   ]
  },
  {
   "cell_type": "code",
   "execution_count": 69,
   "metadata": {},
   "outputs": [
    {
     "name": "stdout",
     "output_type": "stream",
     "text": [
      "No. 3//5 --- 8\n"
     ]
    },
    {
     "data": {
      "image/png": "[encoded data removed]",
      "text/latex": [
       "$$\\int x^{2} \\sin{\\left (x \\right )}\\, dx$$"
      ],
      "text/plain": [
       "⌠             \n",
       "⎮  2          \n",
       "⎮ x ⋅sin(x) dx\n",
       "⌡             "
      ]
     },
     "execution_count": 69,
     "metadata": {},
     "output_type": "execute_result"
    }
   ],
   "source": [
    "expr = x**2*sin(x)\n",
    "itg = Integral(expr,x)\n",
    "i=i+1\n",
    "print( 'No.',m,'---',i)\n",
    "itg"
   ]
  },
  {
   "cell_type": "code",
   "execution_count": 70,
   "metadata": {},
   "outputs": [
    {
     "data": {
      "image/png": "[encoded data removed]",
      "text/latex": [
       "$$- x^{2} \\cos{\\left (x \\right )} + 2 x \\sin{\\left (x \\right )} + 2 \\cos{\\left (x \\right )}$$"
      ],
      "text/plain": [
       "   2                               \n",
       "- x ⋅cos(x) + 2⋅x⋅sin(x) + 2⋅cos(x)"
      ]
     },
     "execution_count": 70,
     "metadata": {},
     "output_type": "execute_result"
    }
   ],
   "source": [
    "simplify(itg.doit())"
   ]
  },
  {
   "cell_type": "code",
   "execution_count": null,
   "metadata": {},
   "outputs": [],
   "source": []
  }
 ],
 "metadata": {
  "kernelspec": {
   "display_name": "Python 3",
   "language": "python",
   "name": "python3"
  },
  "language_info": {
   "codemirror_mode": {
    "name": "ipython",
    "version": 3
   },
   "file_extension": ".py",
   "mimetype": "text/x-python",
   "name": "python",
   "nbconvert_exporter": "python",
   "pygments_lexer": "ipython3",
   "version": "3.6.4"
  }
 },
 "nbformat": 4,
 "nbformat_minor": 2
}
