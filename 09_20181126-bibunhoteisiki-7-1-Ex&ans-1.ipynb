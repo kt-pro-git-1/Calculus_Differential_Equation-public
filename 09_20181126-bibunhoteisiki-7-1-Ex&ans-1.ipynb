{
 "cells": [
  {
   "cell_type": "markdown",
   "metadata": {},
   "source": [
    "# 微分方程式の計算について　　　N0.5　－1　直接積分、変数分離形"
   ]
  },
  {
   "cell_type": "markdown",
   "metadata": {},
   "source": [
    "###  学籍番号[＿＿＿＿＿＿＿＿＿]クラス[＿＿＿＿＿]　クラス番号[＿＿＿＿＿] 名前[＿＿＿＿＿＿＿＿＿＿＿＿＿＿＿]"
   ]
  },
  {
   "cell_type": "markdown",
   "metadata": {},
   "source": [
    "###########   1階常微分方程式　直接積分形"
   ]
  },
  {
   "cell_type": "markdown",
   "metadata": {},
   "source": [
    "$$ \\frac{dy}{dx}=f(x) $$\n",
    "$$ y = \\int f(x)dx = F(X)+C  $$    f(x) の原始関数を F(x) とする ,C は積分定数"
   ]
  },
  {
   "cell_type": "markdown",
   "metadata": {},
   "source": [
    "##########   1階微分方程式　変数分離形"
   ]
  },
  {
   "cell_type": "markdown",
   "metadata": {},
   "source": [
    "$$ \\frac{dy}{dx}=f(x)g(y) $$\n",
    "左をｙのみ、右をｘのみに変形して分離する   両辺をそれぞれ不定積分する\n",
    "$$ \\int \\frac{1}{g(y)}dy = \\int f(x)dx  $$    この積分からｙの解を求める"
   ]
  },
  {
   "cell_type": "code",
   "execution_count": 1,
   "metadata": {},
   "outputs": [],
   "source": [
    "from sympy import *\n",
    "x, n , a ,C1, C2 ,C3 = symbols('x n a C1 C2 C3')\n",
    "f,g,y = symbols('f g y' ,cls=Function)\n",
    "init_printing()\n",
    "m ='5///1'\n",
    "i =0"
   ]
  },
  {
   "cell_type": "code",
   "execution_count": 100,
   "metadata": {},
   "outputs": [
    {
     "name": "stdout",
     "output_type": "stream",
     "text": [
      "No. 5///1 --- 1\n"
     ]
    },
    {
     "data": {
      "image/png": "[encoded data removed]",
      "text/latex": [
       "$$\\frac{d}{d x} y{\\left (x \\right )} = 3 y{\\left (x \\right )}$$"
      ],
      "text/plain": [
       "d                \n",
       "──(y(x)) = 3⋅y(x)\n",
       "dx               "
      ]
     },
     "execution_count": 100,
     "metadata": {},
     "output_type": "execute_result"
    }
   ],
   "source": [
    "diffeq = Eq(y(x).diff(x, 1) ,  3*y(x))\n",
    "i=i+1\n",
    "print( 'No.',m,'---',i)\n",
    "diffeq"
   ]
  },
  {
   "cell_type": "code",
   "execution_count": 101,
   "metadata": {},
   "outputs": [
    {
     "data": {
      "image/png": "[encoded data removed]",
      "text/latex": [
       "$$y{\\left (x \\right )} = C_{1} e^{3 x}$$"
      ],
      "text/plain": [
       "           3⋅x\n",
       "y(x) = C₁⋅ℯ   "
      ]
     },
     "execution_count": 101,
     "metadata": {},
     "output_type": "execute_result"
    }
   ],
   "source": [
    "dsolve(diffeq, y(x))"
   ]
  },
  {
   "cell_type": "code",
   "execution_count": 102,
   "metadata": {},
   "outputs": [
    {
     "name": "stdout",
     "output_type": "stream",
     "text": [
      "No. 5///1 --- 2\n"
     ]
    },
    {
     "data": {
      "image/png": "[encoded data removed]",
      "text/latex": [
       "$$\\frac{d}{d x} y{\\left (x \\right )} = \\frac{y{\\left (x \\right )}}{x \\left(x + 2\\right)}$$"
      ],
      "text/plain": [
       "d             y(x)  \n",
       "──(y(x)) = ─────────\n",
       "dx         x⋅(x + 2)"
      ]
     },
     "execution_count": 102,
     "metadata": {},
     "output_type": "execute_result"
    }
   ],
   "source": [
    "diffeq = Eq(y(x).diff(x, 1) , y(x)/(x*(x+2)))\n",
    "i=i+1\n",
    "print( 'No.',m,'---',i)\n",
    "diffeq"
   ]
  },
  {
   "cell_type": "code",
   "execution_count": 103,
   "metadata": {},
   "outputs": [
    {
     "data": {
      "image/png": "[encoded data removed]",
      "text/latex": [
       "$$y{\\left (x \\right )} = \\frac{C_{1} \\sqrt{x}}{\\sqrt{x + 2}}$$"
      ],
      "text/plain": [
       "         C₁⋅√x  \n",
       "y(x) = ─────────\n",
       "         _______\n",
       "       ╲╱ x + 2 "
      ]
     },
     "execution_count": 103,
     "metadata": {},
     "output_type": "execute_result"
    }
   ],
   "source": [
    "dsolve(diffeq, y(x))"
   ]
  },
  {
   "cell_type": "code",
   "execution_count": 104,
   "metadata": {},
   "outputs": [
    {
     "name": "stdout",
     "output_type": "stream",
     "text": [
      "No. 5///1 --- 3\n"
     ]
    },
    {
     "data": {
      "image/png": "[encoded data removed]",
      "text/latex": [
       "$$\\frac{d}{d x} y{\\left (x \\right )} = 2 x y{\\left (x \\right )}$$"
      ],
      "text/plain": [
       "d                  \n",
       "──(y(x)) = 2⋅x⋅y(x)\n",
       "dx                 "
      ]
     },
     "execution_count": 104,
     "metadata": {},
     "output_type": "execute_result"
    }
   ],
   "source": [
    "diffeq = Eq(y(x).diff(x, 1) , 2*y(x)*x)\n",
    "i=i+1\n",
    "print( 'No.',m,'---',i)\n",
    "diffeq"
   ]
  },
  {
   "cell_type": "code",
   "execution_count": 105,
   "metadata": {},
   "outputs": [
    {
     "data": {
      "image/png": "[encoded data removed]",
      "text/latex": [
       "$$y{\\left (x \\right )} = C_{1} e^{x^{2}}$$"
      ],
      "text/plain": [
       "           ⎛ 2⎞\n",
       "           ⎝x ⎠\n",
       "y(x) = C₁⋅ℯ    "
      ]
     },
     "execution_count": 105,
     "metadata": {},
     "output_type": "execute_result"
    }
   ],
   "source": [
    "dsolve(diffeq, y(x))"
   ]
  },
  {
   "cell_type": "code",
   "execution_count": 106,
   "metadata": {},
   "outputs": [
    {
     "name": "stdout",
     "output_type": "stream",
     "text": [
      "No. 5///1 --- 4\n"
     ]
    },
    {
     "data": {
      "image/png": "[encoded data removed]",
      "text/latex": [
       "$$\\frac{d}{d x} y{\\left (x \\right )} = \\frac{1}{x^{2}} y^{2}{\\left (x \\right )}$$"
      ],
      "text/plain": [
       "            2   \n",
       "d          y (x)\n",
       "──(y(x)) = ─────\n",
       "dx            2 \n",
       "             x  "
      ]
     },
     "execution_count": 106,
     "metadata": {},
     "output_type": "execute_result"
    }
   ],
   "source": [
    "diffeq = Eq(y(x).diff(x, 1) , y(x)**2/x**2)\n",
    "i=i+1\n",
    "print( 'No.',m,'---',i)\n",
    "diffeq"
   ]
  },
  {
   "cell_type": "code",
   "execution_count": 107,
   "metadata": {},
   "outputs": [
    {
     "data": {
      "image/png": "[encoded data removed]",
      "text/latex": [
       "$$y{\\left (x \\right )} = - \\frac{x}{C_{1} x - 1}$$"
      ],
      "text/plain": [
       "         -x    \n",
       "y(x) = ────────\n",
       "       C₁⋅x - 1"
      ]
     },
     "execution_count": 107,
     "metadata": {},
     "output_type": "execute_result"
    }
   ],
   "source": [
    "dsolve(diffeq, y(x))"
   ]
  },
  {
   "cell_type": "code",
   "execution_count": 108,
   "metadata": {},
   "outputs": [
    {
     "name": "stdout",
     "output_type": "stream",
     "text": [
      "No. 5///1 --- 5\n"
     ]
    },
    {
     "data": {
      "image/png": "[encoded data removed]",
      "text/latex": [
       "$$\\frac{d}{d x} y{\\left (x \\right )} = \\frac{2 y{\\left (x \\right )}}{x + 2}$$"
      ],
      "text/plain": [
       "d          2⋅y(x)\n",
       "──(y(x)) = ──────\n",
       "dx         x + 2 "
      ]
     },
     "execution_count": 108,
     "metadata": {},
     "output_type": "execute_result"
    }
   ],
   "source": [
    "diffeq = Eq(y(x).diff(x, 1) ,2*y(x)/(x+2))\n",
    "i=i+1\n",
    "print( 'No.',m,'---',i)\n",
    "diffeq"
   ]
  },
  {
   "cell_type": "code",
   "execution_count": 109,
   "metadata": {},
   "outputs": [
    {
     "data": {
      "image/png": "[encoded data removed]",
      "text/latex": [
       "$$y{\\left (x \\right )} = C_{1} \\left(x^{2} + 4 x + 4\\right)$$"
      ],
      "text/plain": [
       "          ⎛ 2          ⎞\n",
       "y(x) = C₁⋅⎝x  + 4⋅x + 4⎠"
      ]
     },
     "execution_count": 109,
     "metadata": {},
     "output_type": "execute_result"
    }
   ],
   "source": [
    "simplify(dsolve(diffeq, y(x)))"
   ]
  },
  {
   "cell_type": "code",
   "execution_count": 110,
   "metadata": {},
   "outputs": [
    {
     "name": "stdout",
     "output_type": "stream",
     "text": [
      "No. 5///1 --- 6\n"
     ]
    },
    {
     "data": {
      "image/png": "[encoded data removed]",
      "text/latex": [
       "$$\\frac{d}{d x} y{\\left (x \\right )} = 1 + \\frac{3}{x} y{\\left (x \\right )}$$"
      ],
      "text/plain": [
       "d              3⋅y(x)\n",
       "──(y(x)) = 1 + ──────\n",
       "dx               x   "
      ]
     },
     "execution_count": 110,
     "metadata": {},
     "output_type": "execute_result"
    }
   ],
   "source": [
    "diffeq = Eq(y(x).diff(x, 1) ,1+3*y(x)/x)\n",
    "i=i+1\n",
    "print( 'No.',m,'---',i)\n",
    "diffeq"
   ]
  },
  {
   "cell_type": "code",
   "execution_count": 111,
   "metadata": {},
   "outputs": [
    {
     "data": {
      "image/png": "[encoded data removed]",
      "text/latex": [
       "$$y{\\left (x \\right )} = C_{1} x^{3} - \\frac{x}{2}$$"
      ],
      "text/plain": [
       "           3   x\n",
       "y(x) = C₁⋅x  - ─\n",
       "               2"
      ]
     },
     "execution_count": 111,
     "metadata": {},
     "output_type": "execute_result"
    }
   ],
   "source": [
    "simplify(dsolve(diffeq, y(x)))"
   ]
  },
  {
   "cell_type": "code",
   "execution_count": 112,
   "metadata": {},
   "outputs": [
    {
     "name": "stdout",
     "output_type": "stream",
     "text": [
      "No. 5///1 --- 7\n"
     ]
    },
    {
     "data": {
      "image/png": "[encoded data removed]",
      "text/latex": [
       "$$2 y{\\left (x \\right )} + \\frac{d}{d x} y{\\left (x \\right )} = 0$$"
      ],
      "text/plain": [
       "         d           \n",
       "2⋅y(x) + ──(y(x)) = 0\n",
       "         dx          "
      ]
     },
     "execution_count": 112,
     "metadata": {},
     "output_type": "execute_result"
    }
   ],
   "source": [
    "diffeq = Eq(y(x).diff(x, 1)+2*y(x) ,0)\n",
    "i=i+1\n",
    "print( 'No.',m,'---',i)\n",
    "diffeq"
   ]
  },
  {
   "cell_type": "code",
   "execution_count": 113,
   "metadata": {},
   "outputs": [
    {
     "data": {
      "image/png": "[encoded data removed]",
      "text/latex": [
       "$$y{\\left (x \\right )} = C_{1} e^{- 2 x}$$"
      ],
      "text/plain": [
       "           -2⋅x\n",
       "y(x) = C₁⋅ℯ    "
      ]
     },
     "execution_count": 113,
     "metadata": {},
     "output_type": "execute_result"
    }
   ],
   "source": [
    "reseq = dsolve(diffeq, y(x))\n",
    "reseq"
   ]
  },
  {
   "cell_type": "code",
   "execution_count": 116,
   "metadata": {},
   "outputs": [
    {
     "data": {
      "image/png": "[encoded data removed]",
      "text/latex": [
       "$$\\left [ 6 e^{4}\\right ]$$"
      ],
      "text/plain": [
       "⎡   4⎤\n",
       "⎣6⋅ℯ ⎦"
      ]
     },
     "execution_count": 116,
     "metadata": {},
     "output_type": "execute_result"
    }
   ],
   "source": [
    "f0 = Eq(reseq.rhs.subs(x,2),6)\n",
    "c = solve(f0)\n",
    "c"
   ]
  },
  {
   "cell_type": "code",
   "execution_count": 115,
   "metadata": {},
   "outputs": [
    {
     "data": {
      "image/png": "[encoded data removed]",
      "text/latex": [
       "$$y{\\left (x \\right )} = 6 e^{4} e^{- 2 x}$$"
      ],
      "text/plain": [
       "          4  -2⋅x\n",
       "y(x) = 6⋅ℯ ⋅ℯ    "
      ]
     },
     "execution_count": 115,
     "metadata": {},
     "output_type": "execute_result"
    }
   ],
   "source": [
    "reseq01 = reseq.subs(C1, c[0])\n",
    "reseq01"
   ]
  },
  {
   "cell_type": "code",
   "execution_count": 117,
   "metadata": {},
   "outputs": [
    {
     "name": "stdout",
     "output_type": "stream",
     "text": [
      "No. 5///1 --- 8\n"
     ]
    },
    {
     "data": {
      "image/png": "[encoded data removed]",
      "text/latex": [
       "$$2 x y{\\left (x \\right )} + \\frac{d}{d x} y{\\left (x \\right )} = 0$$"
      ],
      "text/plain": [
       "           d           \n",
       "2⋅x⋅y(x) + ──(y(x)) = 0\n",
       "           dx          "
      ]
     },
     "execution_count": 117,
     "metadata": {},
     "output_type": "execute_result"
    }
   ],
   "source": [
    "diffeq = Eq(y(x).diff(x, 1)+2*y(x)*x ,0)\n",
    "i=i+1\n",
    "print( 'No.',m,'---',i)\n",
    "diffeq"
   ]
  },
  {
   "cell_type": "code",
   "execution_count": 118,
   "metadata": {},
   "outputs": [
    {
     "data": {
      "image/png": "[encoded data removed]",
      "text/latex": [
       "$$y{\\left (x \\right )} = C_{1} e^{- x^{2}}$$"
      ],
      "text/plain": [
       "             2\n",
       "           -x \n",
       "y(x) = C₁⋅ℯ   "
      ]
     },
     "execution_count": 118,
     "metadata": {},
     "output_type": "execute_result"
    }
   ],
   "source": [
    "reseq = dsolve(diffeq, y(x))\n",
    "reseq"
   ]
  },
  {
   "cell_type": "code",
   "execution_count": 119,
   "metadata": {},
   "outputs": [
    {
     "data": {
      "image/png": "[encoded data removed]",
      "text/latex": [
       "$$\\left [ 1\\right ]$$"
      ],
      "text/plain": [
       "[1]"
      ]
     },
     "execution_count": 119,
     "metadata": {},
     "output_type": "execute_result"
    }
   ],
   "source": [
    "f0 = Eq(reseq.rhs.subs(x,0),1)\n",
    "c = solve(f0)\n",
    "c"
   ]
  },
  {
   "cell_type": "code",
   "execution_count": 120,
   "metadata": {},
   "outputs": [
    {
     "data": {
      "image/png": "[encoded data removed]",
      "text/latex": [
       "$$y{\\left (x \\right )} = e^{- x^{2}}$$"
      ],
      "text/plain": [
       "          2\n",
       "        -x \n",
       "y(x) = ℯ   "
      ]
     },
     "execution_count": 120,
     "metadata": {},
     "output_type": "execute_result"
    }
   ],
   "source": [
    "reseq01 = reseq.subs(C1, c[0])\n",
    "reseq01"
   ]
  },
  {
   "cell_type": "code",
   "execution_count": null,
   "metadata": {},
   "outputs": [],
   "source": []
  }
 ],
 "metadata": {
  "kernelspec": {
   "display_name": "Python 3",
   "language": "python",
   "name": "python3"
  },
  "language_info": {
   "codemirror_mode": {
    "name": "ipython",
    "version": 3
   },
   "file_extension": ".py",
   "mimetype": "text/x-python",
   "name": "python",
   "nbconvert_exporter": "python",
   "pygments_lexer": "ipython3",
   "version": "3.6.4"
  }
 },
 "nbformat": 4,
 "nbformat_minor": 2
}
