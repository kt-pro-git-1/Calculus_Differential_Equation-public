{
 "cells": [
  {
   "cell_type": "markdown",
   "metadata": {},
   "source": [
    "# 微積分の計算について　　　N0.3　不定積分の内容－１"
   ]
  },
  {
   "cell_type": "markdown",
   "metadata": {},
   "source": [
    "###  学籍番号[＿＿＿＿＿＿＿＿＿]クラス[＿＿＿＿＿]　クラス番号[＿＿＿＿＿] 名前[＿＿＿＿＿＿＿＿＿＿＿＿＿＿＿]"
   ]
  },
  {
   "cell_type": "markdown",
   "metadata": {},
   "source": [
    "積分の式\n",
    "\n",
    "    （１）変形、整理できるか\n",
    "     (２）部分分数に変換できるか\n",
    "    （３）三角関数などは公式を使って変形できるか\n",
    "    （４）分数の分母の有理化できるか\n",
    "    （５）分母を平方完成形にできるか\n",
    "    "
   ]
  },
  {
   "cell_type": "markdown",
   "metadata": {},
   "source": [
    "積分のルール"
   ]
  },
  {
   "cell_type": "markdown",
   "metadata": {},
   "source": [
    "$$  \\int cf(x) dx = c \\int f(x) dx $$"
   ]
  },
  {
   "cell_type": "markdown",
   "metadata": {},
   "source": [
    "$$  \\int \\{ f(x)\\pm g(x)\\} dx = \\int f(x) dx \\pm \\int g(x) dx $$"
   ]
  },
  {
   "cell_type": "markdown",
   "metadata": {},
   "source": [
    "積分の手法\n",
    "\n",
    "    （１）置換積分法\n",
    "    （２）部分積分法\n"
   ]
  },
  {
   "cell_type": "markdown",
   "metadata": {},
   "source": [
    "積分の公式の基礎から"
   ]
  },
  {
   "cell_type": "code",
   "execution_count": 41,
   "metadata": {},
   "outputs": [],
   "source": [
    "from sympy import *\n",
    "x, n , y, a = symbols('x n y a')\n",
    "init_printing()\n",
    "m ='3//1'\n",
    "i =0"
   ]
  },
  {
   "cell_type": "code",
   "execution_count": 42,
   "metadata": {},
   "outputs": [
    {
     "name": "stdout",
     "output_type": "stream",
     "text": [
      "No. 3//1 - 1\n"
     ]
    },
    {
     "data": {
      "image/png": "[encoded data removed]",
      "text/latex": [
       "$$\\int 6 x^{2}\\, dx$$"
      ],
      "text/plain": [
       "⌠        \n",
       "⎮    2   \n",
       "⎮ 6⋅x  dx\n",
       "⌡        "
      ]
     },
     "execution_count": 42,
     "metadata": {},
     "output_type": "execute_result"
    }
   ],
   "source": [
    "expr = 6*x**2\n",
    "itg = Integral(expr,x)\n",
    "i=i+1\n",
    "print( 'No.',m,'-',i)\n",
    "itg"
   ]
  },
  {
   "cell_type": "code",
   "execution_count": 43,
   "metadata": {},
   "outputs": [
    {
     "data": {
      "image/png": "[encoded data removed]",
      "text/latex": [
       "$$2 x^{3}$$"
      ],
      "text/plain": [
       "   3\n",
       "2⋅x "
      ]
     },
     "execution_count": 43,
     "metadata": {},
     "output_type": "execute_result"
    }
   ],
   "source": [
    "itg.doit()"
   ]
  },
  {
   "cell_type": "code",
   "execution_count": 44,
   "metadata": {},
   "outputs": [
    {
     "name": "stdout",
     "output_type": "stream",
     "text": [
      "No. 3//1 - 2\n"
     ]
    },
    {
     "data": {
      "image/png": "[encoded data removed]",
      "text/latex": [
       "$$\\int \\left(x - 1\\right) \\left(x + 1\\right)\\, dx$$"
      ],
      "text/plain": [
       "⌠                   \n",
       "⎮ (x - 1)⋅(x + 1) dx\n",
       "⌡                   "
      ]
     },
     "execution_count": 44,
     "metadata": {},
     "output_type": "execute_result"
    }
   ],
   "source": [
    "expr = (x-1)*(x+1)\n",
    "itg = Integral(expr,x)\n",
    "i=i+1\n",
    "print( 'No.',m,'-',i)\n",
    "itg"
   ]
  },
  {
   "cell_type": "code",
   "execution_count": 45,
   "metadata": {},
   "outputs": [
    {
     "data": {
      "image/png": "[encoded data removed]",
      "text/latex": [
       "$$\\frac{x^{3}}{3} - x$$"
      ],
      "text/plain": [
       " 3    \n",
       "x     \n",
       "── - x\n",
       "3     "
      ]
     },
     "execution_count": 45,
     "metadata": {},
     "output_type": "execute_result"
    }
   ],
   "source": [
    "itg.doit()"
   ]
  },
  {
   "cell_type": "code",
   "execution_count": 46,
   "metadata": {},
   "outputs": [
    {
     "name": "stdout",
     "output_type": "stream",
     "text": [
      "No. 3//1 - 3\n"
     ]
    },
    {
     "data": {
      "image/png": "[encoded data removed]",
      "text/latex": [
       "$$\\int \\frac{2}{x}\\, dx$$"
      ],
      "text/plain": [
       "⌠     \n",
       "⎮ 2   \n",
       "⎮ ─ dx\n",
       "⎮ x   \n",
       "⌡     "
      ]
     },
     "execution_count": 46,
     "metadata": {},
     "output_type": "execute_result"
    }
   ],
   "source": [
    "expr = 2/x\n",
    "itg = Integral(expr,x)\n",
    "i=i+1\n",
    "print( 'No.',m,'-',i)\n",
    "itg"
   ]
  },
  {
   "cell_type": "code",
   "execution_count": 47,
   "metadata": {},
   "outputs": [
    {
     "data": {
      "image/png": "[encoded data removed]",
      "text/latex": [
       "$$2 \\log{\\left (x \\right )}$$"
      ],
      "text/plain": [
       "2⋅log(x)"
      ]
     },
     "execution_count": 47,
     "metadata": {},
     "output_type": "execute_result"
    }
   ],
   "source": [
    "itg.doit()"
   ]
  },
  {
   "cell_type": "code",
   "execution_count": 48,
   "metadata": {},
   "outputs": [
    {
     "name": "stdout",
     "output_type": "stream",
     "text": [
      "No. 3//1 - 4\n"
     ]
    },
    {
     "data": {
      "image/png": "[encoded data removed]",
      "text/latex": [
       "$$\\int \\sqrt[3]{x^{2}}\\, dx$$"
      ],
      "text/plain": [
       "⌠           \n",
       "⎮    ____   \n",
       "⎮ 3 ╱  2    \n",
       "⎮ ╲╱  x   dx\n",
       "⌡           "
      ]
     },
     "execution_count": 48,
     "metadata": {},
     "output_type": "execute_result"
    }
   ],
   "source": [
    "expr = cbrt(x**2)\n",
    "itg = Integral(expr,x)\n",
    "i=i+1\n",
    "print( 'No.',m,'-',i)\n",
    "itg"
   ]
  },
  {
   "cell_type": "code",
   "execution_count": 49,
   "metadata": {},
   "outputs": [
    {
     "data": {
      "image/png": "[encoded data removed]",
      "text/latex": [
       "$$\\frac{3 x}{5} \\sqrt[3]{x^{2}}$$"
      ],
      "text/plain": [
       "       ____\n",
       "    3 ╱  2 \n",
       "3⋅x⋅╲╱  x  \n",
       "───────────\n",
       "     5     "
      ]
     },
     "execution_count": 49,
     "metadata": {},
     "output_type": "execute_result"
    }
   ],
   "source": [
    "itg.doit()"
   ]
  },
  {
   "cell_type": "code",
   "execution_count": 50,
   "metadata": {},
   "outputs": [
    {
     "name": "stdout",
     "output_type": "stream",
     "text": [
      "No. 3//1 - 5\n"
     ]
    },
    {
     "data": {
      "image/png": "[encoded data removed]",
      "text/latex": [
       "$$\\int \\left(2 x + \\sin{\\left (x \\right )}\\right)\\, dx$$"
      ],
      "text/plain": [
       "⌠                  \n",
       "⎮ (2⋅x + sin(x)) dx\n",
       "⌡                  "
      ]
     },
     "execution_count": 50,
     "metadata": {},
     "output_type": "execute_result"
    }
   ],
   "source": [
    "expr = 2*x + sin(x)\n",
    "itg = Integral(expr,x)\n",
    "i=i+1\n",
    "print( 'No.',m,'-',i)\n",
    "itg"
   ]
  },
  {
   "cell_type": "code",
   "execution_count": 51,
   "metadata": {},
   "outputs": [
    {
     "data": {
      "image/png": "[encoded data removed]",
      "text/latex": [
       "$$x^{2} - \\cos{\\left (x \\right )}$$"
      ],
      "text/plain": [
       " 2         \n",
       "x  - cos(x)"
      ]
     },
     "execution_count": 51,
     "metadata": {},
     "output_type": "execute_result"
    }
   ],
   "source": [
    "itg.doit()"
   ]
  },
  {
   "cell_type": "code",
   "execution_count": 52,
   "metadata": {},
   "outputs": [
    {
     "name": "stdout",
     "output_type": "stream",
     "text": [
      "No. 3//1 - 6\n"
     ]
    },
    {
     "data": {
      "image/png": "[encoded data removed]",
      "text/latex": [
       "$$\\int \\left(\\sec^{2}{\\left (x \\right )} + \\frac{1}{x}\\right)\\, dx$$"
      ],
      "text/plain": [
       "⌠                 \n",
       "⎮ ⎛   2      1⎞   \n",
       "⎮ ⎜sec (x) + ─⎟ dx\n",
       "⎮ ⎝          x⎠   \n",
       "⌡                 "
      ]
     },
     "execution_count": 52,
     "metadata": {},
     "output_type": "execute_result"
    }
   ],
   "source": [
    "expr = sec(x)**2 +1/x\n",
    "itg = Integral(expr,x)\n",
    "i=i+1\n",
    "print( 'No.',m,'-',i)\n",
    "itg"
   ]
  },
  {
   "cell_type": "code",
   "execution_count": 53,
   "metadata": {},
   "outputs": [
    {
     "data": {
      "image/png": "[encoded data removed]",
      "text/latex": [
       "$$\\log{\\left (x \\right )} + \\tan{\\left (x \\right )}$$"
      ],
      "text/plain": [
       "log(x) + tan(x)"
      ]
     },
     "execution_count": 53,
     "metadata": {},
     "output_type": "execute_result"
    }
   ],
   "source": [
    "simplify(itg.doit())"
   ]
  },
  {
   "cell_type": "code",
   "execution_count": 54,
   "metadata": {},
   "outputs": [
    {
     "name": "stdout",
     "output_type": "stream",
     "text": [
      "No. 3//1 - 7\n"
     ]
    },
    {
     "data": {
      "image/png": "[encoded data removed]",
      "text/latex": [
       "$$\\int \\left(- e^{x} + 1\\right)\\, dx$$"
      ],
      "text/plain": [
       "⌠              \n",
       "⎮ ⎛   x    ⎞   \n",
       "⎮ ⎝- ℯ  + 1⎠ dx\n",
       "⌡              "
      ]
     },
     "execution_count": 54,
     "metadata": {},
     "output_type": "execute_result"
    }
   ],
   "source": [
    "expr = 1-exp(x)\n",
    "itg = Integral(expr,x)\n",
    "i=i+1\n",
    "print( 'No.',m,'-',i)\n",
    "itg"
   ]
  },
  {
   "cell_type": "code",
   "execution_count": 55,
   "metadata": {},
   "outputs": [
    {
     "data": {
      "image/png": "[encoded data removed]",
      "text/latex": [
       "$$x - e^{x}$$"
      ],
      "text/plain": [
       "     x\n",
       "x - ℯ "
      ]
     },
     "execution_count": 55,
     "metadata": {},
     "output_type": "execute_result"
    }
   ],
   "source": [
    "simplify(itg.doit())"
   ]
  },
  {
   "cell_type": "code",
   "execution_count": null,
   "metadata": {},
   "outputs": [],
   "source": []
  },
  {
   "cell_type": "code",
   "execution_count": null,
   "metadata": {},
   "outputs": [],
   "source": []
  }
 ],
 "metadata": {
  "kernelspec": {
   "display_name": "Python 3",
   "language": "python",
   "name": "python3"
  },
  "language_info": {
   "codemirror_mode": {
    "name": "ipython",
    "version": 3
   },
   "file_extension": ".py",
   "mimetype": "text/x-python",
   "name": "python",
   "nbconvert_exporter": "python",
   "pygments_lexer": "ipython3",
   "version": "3.6.4"
  }
 },
 "nbformat": 4,
 "nbformat_minor": 2
}
