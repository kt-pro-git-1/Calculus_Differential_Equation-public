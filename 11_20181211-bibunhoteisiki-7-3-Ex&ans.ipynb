{
 "cells": [
  {
   "cell_type": "markdown",
   "metadata": {},
   "source": [
    "# 微分方程式の計算について　　　N0.5-3　2階線形定数同次微分方程式"
   ]
  },
  {
   "cell_type": "markdown",
   "metadata": {},
   "source": [
    "###  学籍番号[＿＿＿＿＿＿＿＿＿]クラス[＿＿＿＿＿]　クラス番号[＿＿＿＿＿] 名前[＿＿＿＿＿＿＿＿＿＿＿＿＿＿＿]"
   ]
  },
  {
   "cell_type": "markdown",
   "metadata": {},
   "source": [
    "###########   ２階線形定数係数同次微分方程式"
   ]
  },
  {
   "cell_type": "markdown",
   "metadata": {},
   "source": [
    "$$ \\frac{d^2y}{dx^2}+b\\frac{dy}{dx} +cy = 0 ------------（１）$$"
   ]
  },
  {
   "cell_type": "markdown",
   "metadata": {},
   "source": [
    "上記の（１）式から得られる特性方程式は　$$ \\lambda^2 + b \\lambda + c =0  $$"
   ]
  },
  {
   "cell_type": "markdown",
   "metadata": {},
   "source": [
    "解の公式より　$$  \\lambda =  \\frac{-b \\pm \\sqrt{ b^2 - 4\\times 1\\times c }}{2\\times1}$$"
   ]
  },
  {
   "cell_type": "markdown",
   "metadata": {},
   "source": [
    "(1)判別式 $ b^2-4\\times c  >0  $ なら　\n",
    "2つの実数解　$ \\lambda_1 ,\\lambda_2 $　から一般解は\n",
    "$$ y = C_1 e^{\\lambda_1 x} +  C_2 e^{\\lambda_2 x} $$\n",
    "(2)判別式 $ b^2-4\\times c  = 0  $ なら　1つの実数解(重解)　$ \\lambda $　から一般解は\n",
    "$$ y = ( C_1+ C_2 x) e^{\\lambda x}  $$\n",
    "(3)判別式 $ b^2-4\\times c  < 0  $ なら　複素共役な解　$ \\lambda = \\alpha \\pm i \\beta  $　から一般解は\n",
    "$$ y = e^{\\alpha x}( C_1 \\cos( \\beta x)   + C_2 \\sin( \\beta x)) $$\n",
    "\n"
   ]
  },
  {
   "cell_type": "code",
   "execution_count": 93,
   "metadata": {},
   "outputs": [],
   "source": [
    "from sympy import *\n",
    "x, n , a ,C1, C2 ,C3 = symbols('x n a C1 C2 C3')\n",
    "f,g,y = symbols('f g y' ,cls=Function)\n",
    "init_printing()\n",
    "m ='5///3'\n",
    "i =0"
   ]
  },
  {
   "cell_type": "code",
   "execution_count": 94,
   "metadata": {},
   "outputs": [
    {
     "name": "stdout",
     "output_type": "stream",
     "text": [
      "No. 5///3 --- 1\n"
     ]
    },
    {
     "data": {
      "image/png": "[encoded data removed]",
      "text/latex": [
       "$$2 y{\\left (x \\right )} - 3 \\frac{d}{d x} y{\\left (x \\right )} + \\frac{d^{2}}{d x^{2}}  y{\\left (x \\right )} = 0$$"
      ],
      "text/plain": [
       "                        2          \n",
       "           d           d           \n",
       "2⋅y(x) - 3⋅──(y(x)) + ───(y(x)) = 0\n",
       "           dx           2          \n",
       "                      dx           "
      ]
     },
     "execution_count": 94,
     "metadata": {},
     "output_type": "execute_result"
    }
   ],
   "source": [
    "diffeq = Eq(y(x).diff(x, 2)-3* y(x).diff(x, 1) + 2*y(x) ,0)\n",
    "i =0\n",
    "i=i+1\n",
    "print( 'No.',m,'---',i)\n",
    "diffeq"
   ]
  },
  {
   "cell_type": "code",
   "execution_count": 95,
   "metadata": {},
   "outputs": [
    {
     "data": {
      "image/png": "[encoded data removed]",
      "text/latex": [
       "$$y{\\left (x \\right )} = \\left(C_{1} + C_{2} e^{x}\\right) e^{x}$$"
      ],
      "text/plain": [
       "       ⎛         x⎞  x\n",
       "y(x) = ⎝C₁ + C₂⋅ℯ ⎠⋅ℯ "
      ]
     },
     "execution_count": 95,
     "metadata": {},
     "output_type": "execute_result"
    }
   ],
   "source": [
    "simplify(dsolve(diffeq, y(x)))"
   ]
  },
  {
   "cell_type": "code",
   "execution_count": 96,
   "metadata": {},
   "outputs": [
    {
     "name": "stdout",
     "output_type": "stream",
     "text": [
      "No. 5///3 --- 2\n"
     ]
    },
    {
     "data": {
      "image/png": "[encoded data removed]",
      "text/latex": [
       "$$9 y{\\left (x \\right )} - 6 \\frac{d}{d x} y{\\left (x \\right )} + \\frac{d^{2}}{d x^{2}}  y{\\left (x \\right )} = 0$$"
      ],
      "text/plain": [
       "                        2          \n",
       "           d           d           \n",
       "9⋅y(x) - 6⋅──(y(x)) + ───(y(x)) = 0\n",
       "           dx           2          \n",
       "                      dx           "
      ]
     },
     "execution_count": 96,
     "metadata": {},
     "output_type": "execute_result"
    }
   ],
   "source": [
    "diffeq = Eq(y(x).diff(x, 2)-6* y(x).diff(x, 1) + 9*y(x) ,0)\n",
    "i=i+1\n",
    "print( 'No.',m,'---',i)\n",
    "diffeq"
   ]
  },
  {
   "cell_type": "code",
   "execution_count": 97,
   "metadata": {},
   "outputs": [
    {
     "data": {
      "image/png": "[encoded data removed]",
      "text/latex": [
       "$$y{\\left (x \\right )} = \\left(C_{1} + C_{2} x\\right) e^{3 x}$$"
      ],
      "text/plain": [
       "                    3⋅x\n",
       "y(x) = (C₁ + C₂⋅x)⋅ℯ   "
      ]
     },
     "execution_count": 97,
     "metadata": {},
     "output_type": "execute_result"
    }
   ],
   "source": [
    "simplify(dsolve(diffeq, y(x)))"
   ]
  },
  {
   "cell_type": "code",
   "execution_count": 98,
   "metadata": {},
   "outputs": [
    {
     "name": "stdout",
     "output_type": "stream",
     "text": [
      "No. 5///3 --- 3\n"
     ]
    },
    {
     "data": {
      "image/png": "[encoded data removed]",
      "text/latex": [
       "$$3 y{\\left (x \\right )} - 2 \\frac{d}{d x} y{\\left (x \\right )} + \\frac{d^{2}}{d x^{2}}  y{\\left (x \\right )} = 0$$"
      ],
      "text/plain": [
       "                        2          \n",
       "           d           d           \n",
       "3⋅y(x) - 2⋅──(y(x)) + ───(y(x)) = 0\n",
       "           dx           2          \n",
       "                      dx           "
      ]
     },
     "execution_count": 98,
     "metadata": {},
     "output_type": "execute_result"
    }
   ],
   "source": [
    "diffeq = Eq(y(x).diff(x, 2)-2* y(x).diff(x, 1) + 3*y(x) ,0)\n",
    "i=i+1\n",
    "print( 'No.',m,'---',i)\n",
    "diffeq"
   ]
  },
  {
   "cell_type": "code",
   "execution_count": 99,
   "metadata": {},
   "outputs": [
    {
     "data": {
      "image/png": "[encoded data removed]",
      "text/latex": [
       "$$y{\\left (x \\right )} = \\left(C_{1} \\sin{\\left (\\sqrt{2} x \\right )} + C_{2} \\cos{\\left (\\sqrt{2} x \\right )}\\right) e^{x}$$"
      ],
      "text/plain": [
       "                                      x\n",
       "y(x) = (C₁⋅sin(√2⋅x) + C₂⋅cos(√2⋅x))⋅ℯ "
      ]
     },
     "execution_count": 99,
     "metadata": {},
     "output_type": "execute_result"
    }
   ],
   "source": [
    "simplify(dsolve(diffeq, y(x)))"
   ]
  },
  {
   "cell_type": "code",
   "execution_count": 100,
   "metadata": {},
   "outputs": [
    {
     "name": "stdout",
     "output_type": "stream",
     "text": [
      "No. 5///3 --- 4\n"
     ]
    },
    {
     "data": {
      "image/png": "[encoded data removed]",
      "text/latex": [
       "$$4 y{\\left (x \\right )} + 4 \\frac{d}{d x} y{\\left (x \\right )} + \\frac{d^{2}}{d x^{2}}  y{\\left (x \\right )} = 0$$"
      ],
      "text/plain": [
       "                        2          \n",
       "           d           d           \n",
       "4⋅y(x) + 4⋅──(y(x)) + ───(y(x)) = 0\n",
       "           dx           2          \n",
       "                      dx           "
      ]
     },
     "execution_count": 100,
     "metadata": {},
     "output_type": "execute_result"
    }
   ],
   "source": [
    "diffeq = Eq(y(x).diff(x, 2)+4* y(x).diff(x, 1) + 4*y(x) ,0)\n",
    "i=i+1\n",
    "print( 'No.',m,'---',i)\n",
    "diffeq"
   ]
  },
  {
   "cell_type": "code",
   "execution_count": 101,
   "metadata": {},
   "outputs": [
    {
     "data": {
      "image/png": "[encoded data removed]",
      "text/latex": [
       "$$y{\\left (x \\right )} = \\left(C_{1} + C_{2} x\\right) e^{- 2 x}$$"
      ],
      "text/plain": [
       "                    -2⋅x\n",
       "y(x) = (C₁ + C₂⋅x)⋅ℯ    "
      ]
     },
     "execution_count": 101,
     "metadata": {},
     "output_type": "execute_result"
    }
   ],
   "source": [
    "soln = simplify(dsolve(diffeq, y(x)))\n",
    "soln"
   ]
  },
  {
   "cell_type": "code",
   "execution_count": 102,
   "metadata": {},
   "outputs": [
    {
     "data": {
      "image/png": "[encoded data removed]",
      "text/latex": [
       "$$\\left \\{ C_{1} : 3, \\quad C_{2} : 2\\right \\}$$"
      ],
      "text/plain": [
       "{C₁: 3, C₂: 2}"
      ]
     },
     "execution_count": 102,
     "metadata": {},
     "output_type": "execute_result"
    }
   ],
   "source": [
    "# y(0)=3, y'(0) = -4\n",
    "constants = solve([soln.rhs.subs(x,0)-3 ,soln.rhs.diff(x,1).subs(x,0)-  -4])\n",
    "constants"
   ]
  },
  {
   "cell_type": "code",
   "execution_count": 103,
   "metadata": {},
   "outputs": [
    {
     "data": {
      "image/png": "[encoded data removed]",
      "text/latex": [
       "$$y{\\left (x \\right )} = \\left(2 x + 3\\right) e^{- 2 x}$$"
      ],
      "text/plain": [
       "                  -2⋅x\n",
       "y(x) = (2⋅x + 3)⋅ℯ    "
      ]
     },
     "execution_count": 103,
     "metadata": {},
     "output_type": "execute_result"
    }
   ],
   "source": [
    "solne = soln.subs(constants)\n",
    "solne"
   ]
  },
  {
   "cell_type": "code",
   "execution_count": 104,
   "metadata": {},
   "outputs": [
    {
     "name": "stdout",
     "output_type": "stream",
     "text": [
      "No. 5///3 --- 5\n"
     ]
    },
    {
     "data": {
      "image/png": "[encoded data removed]",
      "text/latex": [
       "$$13 y{\\left (x \\right )} + 4 \\frac{d}{d x} y{\\left (x \\right )} + \\frac{d^{2}}{d x^{2}}  y{\\left (x \\right )} = 0$$"
      ],
      "text/plain": [
       "                         2          \n",
       "            d           d           \n",
       "13⋅y(x) + 4⋅──(y(x)) + ───(y(x)) = 0\n",
       "            dx           2          \n",
       "                       dx           "
      ]
     },
     "execution_count": 104,
     "metadata": {},
     "output_type": "execute_result"
    }
   ],
   "source": [
    "diffeq = Eq(y(x).diff(x, 2)+4* y(x).diff(x, 1) + 13*y(x) ,0)\n",
    "i=i+1\n",
    "print( 'No.',m,'---',i)\n",
    "diffeq"
   ]
  },
  {
   "cell_type": "code",
   "execution_count": 105,
   "metadata": {},
   "outputs": [
    {
     "data": {
      "image/png": "[encoded data removed]",
      "text/latex": [
       "$$y{\\left (x \\right )} = \\left(C_{1} \\sin{\\left (3 x \\right )} + C_{2} \\cos{\\left (3 x \\right )}\\right) e^{- 2 x}$$"
      ],
      "text/plain": [
       "                                    -2⋅x\n",
       "y(x) = (C₁⋅sin(3⋅x) + C₂⋅cos(3⋅x))⋅ℯ    "
      ]
     },
     "execution_count": 105,
     "metadata": {},
     "output_type": "execute_result"
    }
   ],
   "source": [
    "soln = simplify(dsolve(diffeq, y(x)))\n",
    "soln"
   ]
  },
  {
   "cell_type": "code",
   "execution_count": 106,
   "metadata": {},
   "outputs": [
    {
     "data": {
      "image/png": "[encoded data removed]",
      "text/latex": [
       "$$\\left \\{ C_{1} : - 4 e^{2 \\pi}, \\quad C_{2} : 6 e^{2 \\pi}\\right \\}$$"
      ],
      "text/plain": [
       "⎧        2⋅π         2⋅π⎫\n",
       "⎨C₁: -4⋅ℯ   , C₂: 6⋅ℯ   ⎬\n",
       "⎩                       ⎭"
      ]
     },
     "execution_count": 106,
     "metadata": {},
     "output_type": "execute_result"
    }
   ],
   "source": [
    "# y(π)= -６, y'(π) = ２４\n",
    "constants = solve([soln.rhs.subs(x,pi)- -6 ,soln.rhs.diff(x,1).subs(x,pi)-  24])\n",
    "constants"
   ]
  },
  {
   "cell_type": "code",
   "execution_count": 107,
   "metadata": {},
   "outputs": [
    {
     "data": {
      "image/png": "[encoded data removed]",
      "text/latex": [
       "$$y{\\left (x \\right )} = \\left(- 4 e^{2 \\pi} \\sin{\\left (3 x \\right )} + 6 e^{2 \\pi} \\cos{\\left (3 x \\right )}\\right) e^{- 2 x}$$"
      ],
      "text/plain": [
       "       ⎛     2⋅π               2⋅π         ⎞  -2⋅x\n",
       "y(x) = ⎝- 4⋅ℯ   ⋅sin(3⋅x) + 6⋅ℯ   ⋅cos(3⋅x)⎠⋅ℯ    "
      ]
     },
     "execution_count": 107,
     "metadata": {},
     "output_type": "execute_result"
    }
   ],
   "source": [
    "solne = soln.subs(constants)\n",
    "solne"
   ]
  },
  {
   "cell_type": "code",
   "execution_count": 108,
   "metadata": {},
   "outputs": [
    {
     "name": "stdout",
     "output_type": "stream",
     "text": [
      "No. 5///3 --- 6\n"
     ]
    },
    {
     "data": {
      "image/png": "[encoded data removed]",
      "text/latex": [
       "$$2 y{\\left (x \\right )} + 3 \\frac{d}{d x} y{\\left (x \\right )} + \\frac{d^{2}}{d x^{2}}  y{\\left (x \\right )} = 0$$"
      ],
      "text/plain": [
       "                        2          \n",
       "           d           d           \n",
       "2⋅y(x) + 3⋅──(y(x)) + ───(y(x)) = 0\n",
       "           dx           2          \n",
       "                      dx           "
      ]
     },
     "execution_count": 108,
     "metadata": {},
     "output_type": "execute_result"
    }
   ],
   "source": [
    "diffeq = Eq(y(x).diff(x, 2)+3* y(x).diff(x, 1) + 2*y(x) ,0)\n",
    "i=i+1\n",
    "print( 'No.',m,'---',i)\n",
    "diffeq"
   ]
  },
  {
   "cell_type": "code",
   "execution_count": 109,
   "metadata": {},
   "outputs": [
    {
     "data": {
      "image/png": "[encoded data removed]",
      "text/latex": [
       "$$y{\\left (x \\right )} = \\left(C_{1} e^{x} + C_{2}\\right) e^{- 2 x}$$"
      ],
      "text/plain": [
       "       ⎛    x     ⎞  -2⋅x\n",
       "y(x) = ⎝C₁⋅ℯ  + C₂⎠⋅ℯ    "
      ]
     },
     "execution_count": 109,
     "metadata": {},
     "output_type": "execute_result"
    }
   ],
   "source": [
    "soln = simplify(dsolve(diffeq, y(x)))\n",
    "soln"
   ]
  },
  {
   "cell_type": "code",
   "execution_count": 110,
   "metadata": {},
   "outputs": [
    {
     "data": {
      "image/png": "[encoded data removed]",
      "text/latex": [
       "$$\\left \\{ C_{1} : 4, \\quad C_{2} : -3\\right \\}$$"
      ],
      "text/plain": [
       "{C₁: 4, C₂: -3}"
      ]
     },
     "execution_count": 110,
     "metadata": {},
     "output_type": "execute_result"
    }
   ],
   "source": [
    "# y(0)=1, y'(0) = 2\n",
    "constants = solve([soln.rhs.subs(x,0)- 1 ,soln.rhs.diff(x,1).subs(x,0)-  2])\n",
    "constants"
   ]
  },
  {
   "cell_type": "code",
   "execution_count": 111,
   "metadata": {},
   "outputs": [
    {
     "data": {
      "image/png": "[encoded data removed]",
      "text/latex": [
       "$$y{\\left (x \\right )} = \\left(4 e^{x} - 3\\right) e^{- 2 x}$$"
      ],
      "text/plain": [
       "       ⎛   x    ⎞  -2⋅x\n",
       "y(x) = ⎝4⋅ℯ  - 3⎠⋅ℯ    "
      ]
     },
     "execution_count": 111,
     "metadata": {},
     "output_type": "execute_result"
    }
   ],
   "source": [
    "solne = soln.subs(constants)\n",
    "solne"
   ]
  },
  {
   "cell_type": "code",
   "execution_count": null,
   "metadata": {},
   "outputs": [],
   "source": []
  }
 ],
 "metadata": {
  "kernelspec": {
   "display_name": "Python 3",
   "language": "python",
   "name": "python3"
  },
  "language_info": {
   "codemirror_mode": {
    "name": "ipython",
    "version": 3
   },
   "file_extension": ".py",
   "mimetype": "text/x-python",
   "name": "python",
   "nbconvert_exporter": "python",
   "pygments_lexer": "ipython3",
   "version": "3.6.4"
  }
 },
 "nbformat": 4,
 "nbformat_minor": 2
}
