{
 "cells": [
  {
   "cell_type": "markdown",
   "metadata": {},
   "source": [
    "# 微積分の計算について　　　N0.4　定積分の内容－2　＜定積分の置換積分＞"
   ]
  },
  {
   "cell_type": "markdown",
   "metadata": {},
   "source": [
    "###  学籍番号[＿＿＿＿＿＿＿＿＿]クラス[＿＿＿＿＿]　クラス番号[＿＿＿＿＿] 名前[＿＿＿＿＿＿＿＿＿＿＿＿＿＿＿]"
   ]
  },
  {
   "cell_type": "markdown",
   "metadata": {},
   "source": [
    "##### 置換積分の手法　"
   ]
  },
  {
   "cell_type": "markdown",
   "metadata": {},
   "source": [
    "置換積分　公式ー１　　$   \\int_{a}^{b} f(x)dx $　において 、$x = g(t)$ とおく\n",
    "　$$   \\int_{a}^{b} f(x)dx =  \\int_{\\alpha}^{\\beta} f((g(t))g'(t)dt $$           ただし、$ a = g(\\alpha) , b= g(\\beta) $"
   ]
  },
  {
   "cell_type": "markdown",
   "metadata": {},
   "source": [
    "もしくは　置換積分　公式ー２　$ t = g(x)$ とおく\n",
    "　$$  \\int_{a}^{b} f((g(x))g'(x)dx =  \\int_{\\alpha}^{\\beta} f(t)dt $$           ただし、$ \\alpha = g(a) , \\beta= g(b) $"
   ]
  },
  {
   "cell_type": "code",
   "execution_count": 86,
   "metadata": {},
   "outputs": [],
   "source": [
    "from sympy import *\n",
    "x, n , y, a = symbols('x n y a')\n",
    "init_printing()\n",
    "m ='4//2'\n",
    "i =0"
   ]
  },
  {
   "cell_type": "code",
   "execution_count": 87,
   "metadata": {},
   "outputs": [
    {
     "name": "stdout",
     "output_type": "stream",
     "text": [
      "No. 4//2 --- 1\n"
     ]
    },
    {
     "data": {
      "image/png": "[encoded data removed]",
      "text/latex": [
       "$$\\int_{2}^{3} \\left(x + 1\\right)^{2}\\, dx$$"
      ],
      "text/plain": [
       "3            \n",
       "⌠            \n",
       "⎮        2   \n",
       "⎮ (x + 1)  dx\n",
       "⌡            \n",
       "2            "
      ]
     },
     "execution_count": 87,
     "metadata": {},
     "output_type": "execute_result"
    }
   ],
   "source": [
    "expr = (x+1)**2\n",
    "itg = Integral(expr,(x,2,3))\n",
    "i=i+1\n",
    "print( 'No.',m,'---',i)\n",
    "itg"
   ]
  },
  {
   "cell_type": "code",
   "execution_count": 88,
   "metadata": {},
   "outputs": [
    {
     "data": {
      "image/png": "[encoded data removed]",
      "text/latex": [
       "$$\\frac{37}{3}$$"
      ],
      "text/plain": [
       "37/3"
      ]
     },
     "execution_count": 88,
     "metadata": {},
     "output_type": "execute_result"
    }
   ],
   "source": [
    "simplify(itg.doit())"
   ]
  },
  {
   "cell_type": "code",
   "execution_count": 89,
   "metadata": {},
   "outputs": [
    {
     "name": "stdout",
     "output_type": "stream",
     "text": [
      "No. 4//2 --- 2\n"
     ]
    },
    {
     "data": {
      "image/png": "[encoded data removed]",
      "text/latex": [
       "$$\\int_{0}^{2} x \\sqrt{- x^{2} + 4}\\, dx$$"
      ],
      "text/plain": [
       "2                   \n",
       "⌠                   \n",
       "⎮      __________   \n",
       "⎮     ╱    2        \n",
       "⎮ x⋅╲╱  - x  + 4  dx\n",
       "⌡                   \n",
       "0                   "
      ]
     },
     "execution_count": 89,
     "metadata": {},
     "output_type": "execute_result"
    }
   ],
   "source": [
    "expr = x*sqrt(2**2-x*x)\n",
    "itg = Integral(expr,(x,0,2))\n",
    "i=i+1\n",
    "print( 'No.',m,'---',i)\n",
    "itg"
   ]
  },
  {
   "cell_type": "code",
   "execution_count": 90,
   "metadata": {},
   "outputs": [
    {
     "data": {
      "image/png": "[encoded data removed]",
      "text/latex": [
       "$$\\frac{8}{3}$$"
      ],
      "text/plain": [
       "8/3"
      ]
     },
     "execution_count": 90,
     "metadata": {},
     "output_type": "execute_result"
    }
   ],
   "source": [
    "simplify(itg.doit())"
   ]
  },
  {
   "cell_type": "code",
   "execution_count": 91,
   "metadata": {},
   "outputs": [
    {
     "name": "stdout",
     "output_type": "stream",
     "text": [
      "No. 4//2 --- 3\n"
     ]
    },
    {
     "data": {
      "image/png": "[encoded data removed]",
      "text/latex": [
       "$$\\int_{0}^{3} \\sqrt{- x^{2} + 9}\\, dx$$"
      ],
      "text/plain": [
       "3                 \n",
       "⌠                 \n",
       "⎮    __________   \n",
       "⎮   ╱    2        \n",
       "⎮ ╲╱  - x  + 9  dx\n",
       "⌡                 \n",
       "0                 "
      ]
     },
     "execution_count": 91,
     "metadata": {},
     "output_type": "execute_result"
    }
   ],
   "source": [
    "expr = sqrt(3**2-x*x)\n",
    "itg = Integral(expr,(x,0,3))\n",
    "i=i+1\n",
    "print( 'No.',m,'---',i)\n",
    "itg"
   ]
  },
  {
   "cell_type": "code",
   "execution_count": 92,
   "metadata": {},
   "outputs": [
    {
     "data": {
      "image/png": "[encoded data removed]",
      "text/latex": [
       "$$\\frac{9 \\pi}{4}$$"
      ],
      "text/plain": [
       "9⋅π\n",
       "───\n",
       " 4 "
      ]
     },
     "execution_count": 92,
     "metadata": {},
     "output_type": "execute_result"
    }
   ],
   "source": [
    "simplify(itg.doit())"
   ]
  },
  {
   "cell_type": "code",
   "execution_count": 93,
   "metadata": {},
   "outputs": [
    {
     "name": "stdout",
     "output_type": "stream",
     "text": [
      "No. 4//2 --- 4\n"
     ]
    },
    {
     "data": {
      "image/png": "[encoded data removed]",
      "text/latex": [
       "$$\\int_{0}^{2} \\frac{x}{x^{2} + 1}\\, dx$$"
      ],
      "text/plain": [
       "2          \n",
       "⌠          \n",
       "⎮   x      \n",
       "⎮ ────── dx\n",
       "⎮  2       \n",
       "⎮ x  + 1   \n",
       "⌡          \n",
       "0          "
      ]
     },
     "execution_count": 93,
     "metadata": {},
     "output_type": "execute_result"
    }
   ],
   "source": [
    "expr = x / (x**2 +1)\n",
    "itg = Integral(expr,(x,0,2))\n",
    "i=i+1\n",
    "print( 'No.',m,'---',i)\n",
    "itg"
   ]
  },
  {
   "cell_type": "code",
   "execution_count": 94,
   "metadata": {},
   "outputs": [
    {
     "data": {
      "image/png": "[encoded data removed]",
      "text/latex": [
       "$$\\frac{1}{2} \\log{\\left (5 \\right )}$$"
      ],
      "text/plain": [
       "log(5)\n",
       "──────\n",
       "  2   "
      ]
     },
     "execution_count": 94,
     "metadata": {},
     "output_type": "execute_result"
    }
   ],
   "source": [
    "simplify(itg.doit())"
   ]
  },
  {
   "cell_type": "code",
   "execution_count": 95,
   "metadata": {},
   "outputs": [
    {
     "name": "stdout",
     "output_type": "stream",
     "text": [
      "No. 4//2 --- 5\n"
     ]
    },
    {
     "data": {
      "image/png": "[encoded data removed]",
      "text/latex": [
       "$$\\int_{2}^{4} \\frac{1}{\\left(- x + 1\\right)^{2}}\\, dx$$"
      ],
      "text/plain": [
       "4             \n",
       "⌠             \n",
       "⎮     1       \n",
       "⎮ ───────── dx\n",
       "⎮         2   \n",
       "⎮ (-x + 1)    \n",
       "⌡             \n",
       "2             "
      ]
     },
     "execution_count": 95,
     "metadata": {},
     "output_type": "execute_result"
    }
   ],
   "source": [
    "expr = 1/(1- x)**2\n",
    "itg = Integral(expr,(x,2,4))\n",
    "i=i+1\n",
    "print( 'No.',m,'---',i)\n",
    "itg"
   ]
  },
  {
   "cell_type": "code",
   "execution_count": 96,
   "metadata": {},
   "outputs": [
    {
     "data": {
      "image/png": "[encoded data removed]",
      "text/latex": [
       "$$\\frac{2}{3}$$"
      ],
      "text/plain": [
       "2/3"
      ]
     },
     "execution_count": 96,
     "metadata": {},
     "output_type": "execute_result"
    }
   ],
   "source": [
    "simplify(itg.doit())"
   ]
  },
  {
   "cell_type": "code",
   "execution_count": 97,
   "metadata": {},
   "outputs": [
    {
     "name": "stdout",
     "output_type": "stream",
     "text": [
      "No. 4//2 --- 6\n"
     ]
    },
    {
     "data": {
      "image/png": "[encoded data removed]",
      "text/latex": [
       "$$\\int_{0}^{1} \\frac{x}{\\sqrt{x^{2} + 4}}\\, dx$$"
      ],
      "text/plain": [
       "1               \n",
       "⌠               \n",
       "⎮      x        \n",
       "⎮ ─────────── dx\n",
       "⎮    ________   \n",
       "⎮   ╱  2        \n",
       "⎮ ╲╱  x  + 4    \n",
       "⌡               \n",
       "0               "
      ]
     },
     "execution_count": 97,
     "metadata": {},
     "output_type": "execute_result"
    }
   ],
   "source": [
    "expr = x/sqrt(4+x**2)\n",
    "itg = Integral(expr,(x,0,1))\n",
    "i=i+1\n",
    "print( 'No.',m,'---',i)\n",
    "itg"
   ]
  },
  {
   "cell_type": "code",
   "execution_count": 98,
   "metadata": {},
   "outputs": [
    {
     "data": {
      "image/png": "[encoded data removed]",
      "text/latex": [
       "$$-2 + \\sqrt{5}$$"
      ],
      "text/plain": [
       "-2 + √5"
      ]
     },
     "execution_count": 98,
     "metadata": {},
     "output_type": "execute_result"
    }
   ],
   "source": [
    "simplify(itg.doit())"
   ]
  },
  {
   "cell_type": "code",
   "execution_count": 99,
   "metadata": {},
   "outputs": [
    {
     "name": "stdout",
     "output_type": "stream",
     "text": [
      "No. 4//2 --- 7\n"
     ]
    },
    {
     "data": {
      "image/png": "[encoded data removed]",
      "text/latex": [
       "$$\\int_{0}^{\\frac{\\pi}{2}} \\sin^{2}{\\left (x \\right )} \\cos{\\left (x \\right )}\\, dx$$"
      ],
      "text/plain": [
       "π                  \n",
       "─                  \n",
       "2                  \n",
       "⌠                  \n",
       "⎮    2             \n",
       "⎮ sin (x)⋅cos(x) dx\n",
       "⌡                  \n",
       "0                  "
      ]
     },
     "execution_count": 99,
     "metadata": {},
     "output_type": "execute_result"
    }
   ],
   "source": [
    "expr = (sin(x)**2 )*cos(x)\n",
    "itg = Integral(expr,(x,0,pi/2))\n",
    "i=i+1\n",
    "print( 'No.',m,'---',i)\n",
    "itg"
   ]
  },
  {
   "cell_type": "code",
   "execution_count": 100,
   "metadata": {},
   "outputs": [
    {
     "data": {
      "image/png": "[encoded data removed]",
      "text/latex": [
       "$$\\frac{1}{3}$$"
      ],
      "text/plain": [
       "1/3"
      ]
     },
     "execution_count": 100,
     "metadata": {},
     "output_type": "execute_result"
    }
   ],
   "source": [
    "simplify(itg.doit())"
   ]
  },
  {
   "cell_type": "code",
   "execution_count": 101,
   "metadata": {},
   "outputs": [
    {
     "name": "stdout",
     "output_type": "stream",
     "text": [
      "No. 4//2 --- 8\n"
     ]
    },
    {
     "data": {
      "image/png": "[encoded data removed]",
      "text/latex": [
       "$$\\int_{e}^{e^{2}} \\frac{1}{x \\log{\\left (x \\right )}}\\, dx$$"
      ],
      "text/plain": [
       " 2            \n",
       "ℯ             \n",
       "⌠             \n",
       "⎮     1       \n",
       "⎮  ──────── dx\n",
       "⎮  x⋅log(x)   \n",
       "⌡             \n",
       "ℯ             "
      ]
     },
     "execution_count": 101,
     "metadata": {},
     "output_type": "execute_result"
    }
   ],
   "source": [
    "expr = 1/(x*log(x))\n",
    "itg = Integral(expr,(x,exp(1),exp(1)**2))\n",
    "i=i+1\n",
    "print( 'No.',m,'---',i)\n",
    "itg"
   ]
  },
  {
   "cell_type": "code",
   "execution_count": 102,
   "metadata": {},
   "outputs": [
    {
     "data": {
      "image/png": "[encoded data removed]",
      "text/latex": [
       "$$\\log{\\left (2 \\right )}$$"
      ],
      "text/plain": [
       "log(2)"
      ]
     },
     "execution_count": 102,
     "metadata": {},
     "output_type": "execute_result"
    }
   ],
   "source": [
    "simplify(itg.doit())"
   ]
  },
  {
   "cell_type": "code",
   "execution_count": null,
   "metadata": {},
   "outputs": [],
   "source": []
  }
 ],
 "metadata": {
  "kernelspec": {
   "display_name": "Python 3",
   "language": "python",
   "name": "python3"
  },
  "language_info": {
   "codemirror_mode": {
    "name": "ipython",
    "version": 3
   },
   "file_extension": ".py",
   "mimetype": "text/x-python",
   "name": "python",
   "nbconvert_exporter": "python",
   "pygments_lexer": "ipython3",
   "version": "3.6.4"
  }
 },
 "nbformat": 4,
 "nbformat_minor": 2
}
